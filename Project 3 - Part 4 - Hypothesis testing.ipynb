{
 "cells": [
  {
   "cell_type": "markdown",
   "id": "ed4053fa",
   "metadata": {},
   "source": [
    "# Part 4\n",
    "\n",
    "Jon Messier\n",
    "\n",
    "3/16/2021\n",
    "\n",
    "\n",
    "For part 4 of the project, you will be using your MySQL database from part 3 to answer meaningful questions for your stakeholder. They want you to use your hypothesis testing and statistics knowledge to answer 3 questions about what makes a successful movie.\n",
    "\n",
    "---\n",
    "\n",
    "## Questions to Answer\n",
    "- [ ] The stakeholder's first question is: does the MPAA rating of a movie (G/PG/PG-13/R) affect how much revenue the movie generates?\n",
    "    - [ ] They want you to perform a statistical test to get a mathematically-supported answer.\n",
    "    - [ ] They want you to report if you found a significant difference between ratings.\n",
    "        - [ ] If so, what was the p-value of your analysis?\n",
    "        - [ ] And which rating earns the most revenue?\n",
    "    - They want you to prepare a visualization that supports your finding.\n",
    "\n",
    "\n",
    "\n",
    "- [ ] It is then up to you to think of 2 additional hypotheses to test that your stakeholder may want to know.\n",
    "\n",
    "Some example hypotheses you could test:\n",
    "\n",
    "- [ ] Do movies that are over 2.5 hours long earn more revenue than movies that are 1.5 hours long (or less)?\n",
    "- [ ] Do movies released in 2020 earn less revenue than movies released in 2018?\n",
    "  - [ ] How do the years compare for movie ratings?\n",
    "  - [ ]  Do some movie genres earn more revenue than others?\n",
    "  - [ ] Are some genres higher rated than others? etc.\n",
    "\n",
    "## Specifications\n",
    "### Your Data\n",
    "A critical first step for this assignment will be to retrieve additional movie data to add to your SQL database.\n",
    " - [ ]   You will want to use the TMDB API again and extract data for additional years.\n",
    " - [ ]  You may want to review the optional lesson from Week 1 on \"Using glob to Load Many Files\" to load and combine all of your API results for each year.\n",
    "\n",
    " - [ ]  However, trying to extract the TMDB data for all movies from 2000-2022 could take >24 hours!\n",
    " - [ ]   To address this issue, you should EITHER:\n",
    "   - [ ]     Define a smaller (but logical) period of time to use for your analyses (e.g. last 10 years, 2010-2019 (pre-pandemic, etc).\n",
    "   - [ ]    OR coordinate with cohort-mates and divide the API calls so that you can all download the data for a smaller number of years and then share your downloaded JSON data.\n",
    "   \n",
    "## Deliverables\n",
    "- [ ]  You should use the same project repository you have been using for Parts 1-3 (for your portfolio).\n",
    "- [ ]  Create a new notebook in your project repository just for the hypothesis testing (like \"Part 4 - Hypothesis Testing.ipynb\")\n",
    "- [ ] Make sure the results and visualization for all 3 hypotheses are in your notebook."
   ]
  },
  {
   "cell_type": "markdown",
   "id": "d6060789",
   "metadata": {},
   "source": [
    "# Class Imports"
   ]
  },
  {
   "cell_type": "code",
   "execution_count": 1,
   "id": "81c4366e",
   "metadata": {},
   "outputs": [],
   "source": [
    "import json\n",
    "import pandas as pd\n",
    "import numpy as np\n",
    "\n",
    "import matplotlib.pyplot as plt\n",
    "import seaborn as sns\n",
    "\n",
    "from scipy import stats\n",
    "import scipy\n",
    "\n",
    "import pymysql\n",
    "pymysql.install_as_MySQLdb()\n",
    "\n",
    "from sqlalchemy import create_engine\n",
    "from sqlalchemy_utils import create_database, database_exists"
   ]
  },
  {
   "cell_type": "markdown",
   "id": "428a82d1",
   "metadata": {},
   "source": [
    "# Load Data\n",
    "Use the TMDB json files in '/Data' to create our data frame"
   ]
  },
  {
   "cell_type": "code",
   "execution_count": 2,
   "id": "cda05492",
   "metadata": {
    "scrolled": true
   },
   "outputs": [
    {
     "data": {
      "text/plain": [
       "['Data\\\\tmdb_api_results_2000.json',\n",
       " 'Data\\\\tmdb_api_results_2001.json',\n",
       " 'Data\\\\tmdb_api_results_2002.json',\n",
       " 'Data\\\\tmdb_api_results_2003.json',\n",
       " 'Data\\\\tmdb_api_results_2004.json']"
      ]
     },
     "execution_count": 2,
     "metadata": {},
     "output_type": "execute_result"
    }
   ],
   "source": [
    "import glob\n",
    "q = \"Data/tmdb_api_results_*.json\"\n",
    "chunked_files = glob.glob(q)\n",
    "# Showing the first 5\n",
    "chunked_files[:5]"
   ]
  },
  {
   "cell_type": "code",
   "execution_count": 3,
   "id": "1fd244b3",
   "metadata": {},
   "outputs": [
    {
     "data": {
      "text/html": [
       "<div>\n",
       "<style scoped>\n",
       "    .dataframe tbody tr th:only-of-type {\n",
       "        vertical-align: middle;\n",
       "    }\n",
       "\n",
       "    .dataframe tbody tr th {\n",
       "        vertical-align: top;\n",
       "    }\n",
       "\n",
       "    .dataframe thead th {\n",
       "        text-align: right;\n",
       "    }\n",
       "</style>\n",
       "<table border=\"1\" class=\"dataframe\">\n",
       "  <thead>\n",
       "    <tr style=\"text-align: right;\">\n",
       "      <th></th>\n",
       "      <th>imdb_id</th>\n",
       "      <th>adult</th>\n",
       "      <th>backdrop_path</th>\n",
       "      <th>belongs_to_collection</th>\n",
       "      <th>budget</th>\n",
       "      <th>genres</th>\n",
       "      <th>homepage</th>\n",
       "      <th>id</th>\n",
       "      <th>original_language</th>\n",
       "      <th>original_title</th>\n",
       "      <th>...</th>\n",
       "      <th>revenue</th>\n",
       "      <th>runtime</th>\n",
       "      <th>spoken_languages</th>\n",
       "      <th>status</th>\n",
       "      <th>tagline</th>\n",
       "      <th>title</th>\n",
       "      <th>video</th>\n",
       "      <th>vote_average</th>\n",
       "      <th>vote_count</th>\n",
       "      <th>certification</th>\n",
       "    </tr>\n",
       "  </thead>\n",
       "  <tbody>\n",
       "    <tr>\n",
       "      <th>0</th>\n",
       "      <td>0</td>\n",
       "      <td>NaN</td>\n",
       "      <td>NaN</td>\n",
       "      <td>NaN</td>\n",
       "      <td>NaN</td>\n",
       "      <td>NaN</td>\n",
       "      <td>NaN</td>\n",
       "      <td>NaN</td>\n",
       "      <td>NaN</td>\n",
       "      <td>NaN</td>\n",
       "      <td>...</td>\n",
       "      <td>NaN</td>\n",
       "      <td>NaN</td>\n",
       "      <td>NaN</td>\n",
       "      <td>NaN</td>\n",
       "      <td>NaN</td>\n",
       "      <td>NaN</td>\n",
       "      <td>NaN</td>\n",
       "      <td>NaN</td>\n",
       "      <td>NaN</td>\n",
       "      <td>NaN</td>\n",
       "    </tr>\n",
       "    <tr>\n",
       "      <th>1</th>\n",
       "      <td>tt0113026</td>\n",
       "      <td>0.0</td>\n",
       "      <td>/vMFs7nw6P0bIV1jDsQpxAieAVnH.jpg</td>\n",
       "      <td>None</td>\n",
       "      <td>10000000.0</td>\n",
       "      <td>[{'id': 35, 'name': 'Comedy'}, {'id': 10402, '...</td>\n",
       "      <td></td>\n",
       "      <td>62127.0</td>\n",
       "      <td>en</td>\n",
       "      <td>The Fantasticks</td>\n",
       "      <td>...</td>\n",
       "      <td>0.0</td>\n",
       "      <td>86.0</td>\n",
       "      <td>[{'english_name': 'English', 'iso_639_1': 'en'...</td>\n",
       "      <td>Released</td>\n",
       "      <td>Try to remember the first time magic happened</td>\n",
       "      <td>The Fantasticks</td>\n",
       "      <td>0.0</td>\n",
       "      <td>5.500</td>\n",
       "      <td>22.0</td>\n",
       "      <td></td>\n",
       "    </tr>\n",
       "    <tr>\n",
       "      <th>2</th>\n",
       "      <td>tt0113092</td>\n",
       "      <td>0.0</td>\n",
       "      <td>None</td>\n",
       "      <td>None</td>\n",
       "      <td>0.0</td>\n",
       "      <td>[{'id': 878, 'name': 'Science Fiction'}]</td>\n",
       "      <td></td>\n",
       "      <td>110977.0</td>\n",
       "      <td>en</td>\n",
       "      <td>For the Cause</td>\n",
       "      <td>...</td>\n",
       "      <td>0.0</td>\n",
       "      <td>100.0</td>\n",
       "      <td>[{'english_name': 'English', 'iso_639_1': 'en'...</td>\n",
       "      <td>Released</td>\n",
       "      <td>The ultimate showdown on a forbidden planet.</td>\n",
       "      <td>For the Cause</td>\n",
       "      <td>0.0</td>\n",
       "      <td>5.100</td>\n",
       "      <td>8.0</td>\n",
       "      <td></td>\n",
       "    </tr>\n",
       "    <tr>\n",
       "      <th>3</th>\n",
       "      <td>tt0116391</td>\n",
       "      <td>0.0</td>\n",
       "      <td>None</td>\n",
       "      <td>None</td>\n",
       "      <td>0.0</td>\n",
       "      <td>[{'id': 18, 'name': 'Drama'}, {'id': 28, 'name...</td>\n",
       "      <td></td>\n",
       "      <td>442869.0</td>\n",
       "      <td>hi</td>\n",
       "      <td>Gang</td>\n",
       "      <td>...</td>\n",
       "      <td>0.0</td>\n",
       "      <td>152.0</td>\n",
       "      <td>[{'english_name': 'Hindi', 'iso_639_1': 'hi', ...</td>\n",
       "      <td>Released</td>\n",
       "      <td></td>\n",
       "      <td>Gang</td>\n",
       "      <td>0.0</td>\n",
       "      <td>4.000</td>\n",
       "      <td>1.0</td>\n",
       "      <td>NaN</td>\n",
       "    </tr>\n",
       "    <tr>\n",
       "      <th>4</th>\n",
       "      <td>tt0118694</td>\n",
       "      <td>0.0</td>\n",
       "      <td>/n4GJFGzsc7NinI1VeGDXIcQjtU2.jpg</td>\n",
       "      <td>None</td>\n",
       "      <td>150000.0</td>\n",
       "      <td>[{'id': 18, 'name': 'Drama'}, {'id': 10749, 'n...</td>\n",
       "      <td></td>\n",
       "      <td>843.0</td>\n",
       "      <td>cn</td>\n",
       "      <td>花樣年華</td>\n",
       "      <td>...</td>\n",
       "      <td>12854953.0</td>\n",
       "      <td>99.0</td>\n",
       "      <td>[{'english_name': 'Cantonese', 'iso_639_1': 'c...</td>\n",
       "      <td>Released</td>\n",
       "      <td>Feel the heat, keep the feeling burning, let t...</td>\n",
       "      <td>In the Mood for Love</td>\n",
       "      <td>0.0</td>\n",
       "      <td>8.115</td>\n",
       "      <td>2133.0</td>\n",
       "      <td>PG</td>\n",
       "    </tr>\n",
       "  </tbody>\n",
       "</table>\n",
       "<p>5 rows × 26 columns</p>\n",
       "</div>"
      ],
      "text/plain": [
       "     imdb_id  adult                     backdrop_path belongs_to_collection  \\\n",
       "0          0    NaN                               NaN                   NaN   \n",
       "1  tt0113026    0.0  /vMFs7nw6P0bIV1jDsQpxAieAVnH.jpg                  None   \n",
       "2  tt0113092    0.0                              None                  None   \n",
       "3  tt0116391    0.0                              None                  None   \n",
       "4  tt0118694    0.0  /n4GJFGzsc7NinI1VeGDXIcQjtU2.jpg                  None   \n",
       "\n",
       "       budget                                             genres homepage  \\\n",
       "0         NaN                                                NaN      NaN   \n",
       "1  10000000.0  [{'id': 35, 'name': 'Comedy'}, {'id': 10402, '...            \n",
       "2         0.0           [{'id': 878, 'name': 'Science Fiction'}]            \n",
       "3         0.0  [{'id': 18, 'name': 'Drama'}, {'id': 28, 'name...            \n",
       "4    150000.0  [{'id': 18, 'name': 'Drama'}, {'id': 10749, 'n...            \n",
       "\n",
       "         id original_language   original_title  ...     revenue  runtime  \\\n",
       "0       NaN               NaN              NaN  ...         NaN      NaN   \n",
       "1   62127.0                en  The Fantasticks  ...         0.0     86.0   \n",
       "2  110977.0                en    For the Cause  ...         0.0    100.0   \n",
       "3  442869.0                hi             Gang  ...         0.0    152.0   \n",
       "4     843.0                cn             花樣年華  ...  12854953.0     99.0   \n",
       "\n",
       "                                    spoken_languages    status  \\\n",
       "0                                                NaN       NaN   \n",
       "1  [{'english_name': 'English', 'iso_639_1': 'en'...  Released   \n",
       "2  [{'english_name': 'English', 'iso_639_1': 'en'...  Released   \n",
       "3  [{'english_name': 'Hindi', 'iso_639_1': 'hi', ...  Released   \n",
       "4  [{'english_name': 'Cantonese', 'iso_639_1': 'c...  Released   \n",
       "\n",
       "                                             tagline                 title  \\\n",
       "0                                                NaN                   NaN   \n",
       "1      Try to remember the first time magic happened       The Fantasticks   \n",
       "2       The ultimate showdown on a forbidden planet.         For the Cause   \n",
       "3                                                                     Gang   \n",
       "4  Feel the heat, keep the feeling burning, let t...  In the Mood for Love   \n",
       "\n",
       "   video  vote_average vote_count certification  \n",
       "0    NaN           NaN        NaN           NaN  \n",
       "1    0.0         5.500       22.0                \n",
       "2    0.0         5.100        8.0                \n",
       "3    0.0         4.000        1.0           NaN  \n",
       "4    0.0         8.115     2133.0            PG  \n",
       "\n",
       "[5 rows x 26 columns]"
      ]
     },
     "execution_count": 3,
     "metadata": {},
     "output_type": "execute_result"
    }
   ],
   "source": [
    "## Loading and Concatenating the list of dfs with 1 line\n",
    "tmdb = pd.concat([pd.read_json(file) for file in chunked_files])\n",
    "tmdb.head()"
   ]
  },
  {
   "cell_type": "code",
   "execution_count": 4,
   "id": "2aa3abbe",
   "metadata": {},
   "outputs": [
    {
     "name": "stdout",
     "output_type": "stream",
     "text": [
      "<class 'pandas.core.frame.DataFrame'>\n",
      "Int64Index: 27967 entries, 0 to 3891\n",
      "Data columns (total 26 columns):\n",
      " #   Column                 Non-Null Count  Dtype  \n",
      "---  ------                 --------------  -----  \n",
      " 0   imdb_id                27967 non-null  object \n",
      " 1   adult                  27946 non-null  float64\n",
      " 2   backdrop_path          19967 non-null  object \n",
      " 3   belongs_to_collection  1709 non-null   object \n",
      " 4   budget                 27946 non-null  float64\n",
      " 5   genres                 27946 non-null  object \n",
      " 6   homepage               27946 non-null  object \n",
      " 7   id                     27946 non-null  float64\n",
      " 8   original_language      27946 non-null  object \n",
      " 9   original_title         27946 non-null  object \n",
      " 10  overview               27946 non-null  object \n",
      " 11  popularity             27946 non-null  float64\n",
      " 12  poster_path            26829 non-null  object \n",
      " 13  production_companies   27946 non-null  object \n",
      " 14  production_countries   27946 non-null  object \n",
      " 15  release_date           27946 non-null  object \n",
      " 16  revenue                27946 non-null  float64\n",
      " 17  runtime                27946 non-null  float64\n",
      " 18  spoken_languages       27946 non-null  object \n",
      " 19  status                 27946 non-null  object \n",
      " 20  tagline                27946 non-null  object \n",
      " 21  title                  27946 non-null  object \n",
      " 22  video                  27946 non-null  float64\n",
      " 23  vote_average           27946 non-null  float64\n",
      " 24  vote_count             27946 non-null  float64\n",
      " 25  certification          15683 non-null  object \n",
      "dtypes: float64(9), object(17)\n",
      "memory usage: 5.8+ MB\n"
     ]
    }
   ],
   "source": [
    "tmdb.info()"
   ]
  },
  {
   "cell_type": "code",
   "execution_count": null,
   "id": "92574ac6",
   "metadata": {},
   "outputs": [],
   "source": []
  },
  {
   "cell_type": "markdown",
   "id": "2334852c",
   "metadata": {},
   "source": [
    "# Custom Functions"
   ]
  },
  {
   "cell_type": "markdown",
   "id": "33a9db3e",
   "metadata": {},
   "source": [
    "# Q1. MPAA v. Revenue\n",
    "\n",
    "For $\\alpha=0.05$:\n",
    "\n",
    " $H_0$(Null Hypothesis) There is no statistical difference in the MPAA rating (`certification`) and `revenue`.  $p<\\alpha$\n",
    " \n",
    " $H_A$(Alternative Hypothesis) There is a significant difference in the MPAA rating (`certification`) and `revenue`.  $p>\\alpha$\n",
    " \n",
    "## Define test\n",
    "- Type of Data - Revenue - numeric\n",
    "- How many groups - Certification (G, PG, PG-13, R, NC-17, NR) = 6\n",
    "- Which test is appropriate? ANOVA, Tukey, Kruskal-Wallis?\n",
    "\n",
    "## Assumptions\n",
    "1. No Significant Outliers\n",
    "2. Equal Variance\n",
    "3. Normality"
   ]
  },
  {
   "cell_type": "markdown",
   "id": "70463c28",
   "metadata": {},
   "source": [
    "## Explore/Clean data"
   ]
  },
  {
   "cell_type": "code",
   "execution_count": 5,
   "id": "befa9382",
   "metadata": {},
   "outputs": [],
   "source": [
    "df = tmdb[['certification','revenue']]"
   ]
  },
  {
   "cell_type": "code",
   "execution_count": 6,
   "id": "21870e86",
   "metadata": {
    "scrolled": false
   },
   "outputs": [
    {
     "data": {
      "text/plain": [
       "25036"
      ]
     },
     "execution_count": 6,
     "metadata": {},
     "output_type": "execute_result"
    }
   ],
   "source": [
    "# Duplicates?\n",
    "df.duplicated().sum()"
   ]
  },
  {
   "cell_type": "code",
   "execution_count": 7,
   "id": "56f166d9",
   "metadata": {},
   "outputs": [
    {
     "data": {
      "text/plain": [
       "0"
      ]
     },
     "execution_count": 7,
     "metadata": {},
     "output_type": "execute_result"
    }
   ],
   "source": [
    "#drop duplicated entries\n",
    "df = df.drop_duplicates()\n",
    "df.duplicated().sum()"
   ]
  },
  {
   "cell_type": "code",
   "execution_count": 8,
   "id": "e4218a71",
   "metadata": {
    "scrolled": false
   },
   "outputs": [
    {
     "data": {
      "text/plain": [
       "R          820\n",
       "PG-13      570\n",
       "           488\n",
       "PG         219\n",
       "NR         104\n",
       "G           50\n",
       "NC-17        7\n",
       "Unrated      1\n",
       "-            1\n",
       "Name: certification, dtype: int64"
      ]
     },
     "execution_count": 8,
     "metadata": {},
     "output_type": "execute_result"
    }
   ],
   "source": [
    "#How many categories do we have\n",
    "df['certification'].value_counts()"
   ]
  },
  {
   "cell_type": "markdown",
   "id": "32789cfb",
   "metadata": {},
   "source": [
    "For this hypthesis testing, I will drop the `certification = NaN, Unrated, and \"-\"` values.  These values are:\n",
    "1. Impossible to qualify with out looking at each of the 10046 entries individually in the case of NaN\n",
    "2. Statistically insignificant in the case of `Unrated`, `NC-17` and `\"-\"`"
   ]
  },
  {
   "cell_type": "code",
   "execution_count": 9,
   "id": "1f215b6e",
   "metadata": {
    "scrolled": true
   },
   "outputs": [
    {
     "data": {
      "text/plain": [
       "R        820\n",
       "PG-13    570\n",
       "PG       219\n",
       "NR       104\n",
       "G         50\n",
       "Name: certification, dtype: int64"
      ]
     },
     "execution_count": 9,
     "metadata": {},
     "output_type": "execute_result"
    }
   ],
   "source": [
    "df = df.dropna(axis=0,subset=\"certification\")\n",
    "df = df[(df['certification']!='Unrated') & (df['certification']!='-') & (df['certification']!='NC-17') & (df['certification']!='')]\n",
    "df['certification'].value_counts()"
   ]
  },
  {
   "cell_type": "markdown",
   "id": "abdba133",
   "metadata": {
    "heading_collapsed": true
   },
   "source": [
    "## Exploratory Visual\n"
   ]
  },
  {
   "cell_type": "code",
   "execution_count": 10,
   "id": "1fe93e8d",
   "metadata": {
    "hidden": true,
    "scrolled": true
   },
   "outputs": [
    {
     "data": {
      "text/plain": [
       "<AxesSubplot: xlabel='certification', ylabel='revenue'>"
      ]
     },
     "execution_count": 10,
     "metadata": {},
     "output_type": "execute_result"
    },
    {
     "data": {
      "image/png": "[encoded data removed]",
      "text/plain": [
       "<Figure size 640x480 with 1 Axes>"
      ]
     },
     "metadata": {},
     "output_type": "display_data"
    }
   ],
   "source": [
    "sns.barplot(data = df, x='certification', y= 'revenue')"
   ]
  },
  {
   "cell_type": "code",
   "execution_count": 38,
   "id": "6235c3f4",
   "metadata": {
    "hidden": true
   },
   "outputs": [
    {
     "data": {
      "text/plain": [
       "dict_keys(['PG', 'R', 'G', 'NR', 'PG-13'])"
      ]
     },
     "execution_count": 38,
     "metadata": {},
     "output_type": "execute_result"
    }
   ],
   "source": [
    "#Divide into groups to make it easier to work with in the future\n",
    "groups ={}\n",
    "for i in df['certification'].unique():\n",
    "    ## Get series for group and rename\n",
    "    data = df.loc[df['certification']==i,'revenue'].copy()\n",
    "    \n",
    "    # save into the dictionary\n",
    "    groups[i] = data\n",
    "groups.keys()"
   ]
  },
  {
   "cell_type": "markdown",
   "id": "30df8fdd",
   "metadata": {
    "heading_collapsed": true
   },
   "source": [
    "## Test Assumption of no significant outliers"
   ]
  },
  {
   "cell_type": "code",
   "execution_count": 39,
   "id": "754f8ab9",
   "metadata": {
    "hidden": true,
    "scrolled": true
   },
   "outputs": [
    {
     "name": "stdout",
     "output_type": "stream",
     "text": [
      "For certification = PG, there are 6 outliers\n",
      "Outliers have been removed\n",
      "For certification = R, there are 21 outliers\n",
      "Outliers have been removed\n",
      "For certification = G, there are 1 outliers\n",
      "Outliers have been removed\n",
      "For certification = NR, there are 3 outliers\n",
      "Outliers have been removed\n",
      "For certification = PG-13, there are 15 outliers\n",
      "Outliers have been removed\n"
     ]
    }
   ],
   "source": [
    "for i, data in groups.items():\n",
    "    zscores = stats.zscore(data)\n",
    "    outliers = abs(zscores)>3\n",
    "    print(f'For certification = {i}, there are {np.sum(outliers)} outliers')\n",
    "    groups[i] = groups[i][(np.abs(stats.zscore(groups[i])) < 3)]\n",
    "    print(f'Outliers have been removed')"
   ]
  },
  {
   "cell_type": "markdown",
   "id": "77bb2494",
   "metadata": {
    "heading_collapsed": true
   },
   "source": [
    "## Test Assumption of Normality\n",
    "**Use:**  `scipy.stats.normaltest`. From the docs: \n",
    "\"This function tests the null hypothesis that a sample comes from a normal distribution.\"\n",
    "\n",
    "A p-value less than 0.05 says our distribution is significantly different than a normal distribution."
   ]
  },
  {
   "cell_type": "code",
   "execution_count": 13,
   "id": "97e44044",
   "metadata": {
    "hidden": true
   },
   "outputs": [
    {
     "data": {
      "text/html": [
       "<div>\n",
       "<style scoped>\n",
       "    .dataframe tbody tr th:only-of-type {\n",
       "        vertical-align: middle;\n",
       "    }\n",
       "\n",
       "    .dataframe tbody tr th {\n",
       "        vertical-align: top;\n",
       "    }\n",
       "\n",
       "    .dataframe thead th {\n",
       "        text-align: right;\n",
       "    }\n",
       "</style>\n",
       "<table border=\"1\" class=\"dataframe\">\n",
       "  <thead>\n",
       "    <tr style=\"text-align: right;\">\n",
       "      <th></th>\n",
       "      <th>n</th>\n",
       "      <th>p</th>\n",
       "      <th>test stat</th>\n",
       "    </tr>\n",
       "  </thead>\n",
       "  <tbody>\n",
       "    <tr>\n",
       "      <th>PG</th>\n",
       "      <td>213.0</td>\n",
       "      <td>4.159352e-25</td>\n",
       "      <td>112.278536</td>\n",
       "    </tr>\n",
       "    <tr>\n",
       "      <th>R</th>\n",
       "      <td>799.0</td>\n",
       "      <td>9.568299e-96</td>\n",
       "      <td>437.579427</td>\n",
       "    </tr>\n",
       "    <tr>\n",
       "      <th>G</th>\n",
       "      <td>49.0</td>\n",
       "      <td>2.931453e-12</td>\n",
       "      <td>53.111046</td>\n",
       "    </tr>\n",
       "    <tr>\n",
       "      <th>NR</th>\n",
       "      <td>101.0</td>\n",
       "      <td>3.578362e-12</td>\n",
       "      <td>52.712232</td>\n",
       "    </tr>\n",
       "    <tr>\n",
       "      <th>PG-13</th>\n",
       "      <td>555.0</td>\n",
       "      <td>6.041824e-63</td>\n",
       "      <td>286.528310</td>\n",
       "    </tr>\n",
       "  </tbody>\n",
       "</table>\n",
       "</div>"
      ],
      "text/plain": [
       "           n             p   test stat\n",
       "PG     213.0  4.159352e-25  112.278536\n",
       "R      799.0  9.568299e-96  437.579427\n",
       "G       49.0  2.931453e-12   53.111046\n",
       "NR     101.0  3.578362e-12   52.712232\n",
       "PG-13  555.0  6.041824e-63  286.528310"
      ]
     },
     "execution_count": 13,
     "metadata": {},
     "output_type": "execute_result"
    }
   ],
   "source": [
    "## Running normal test on each group and confirming there are >20 in each group\n",
    "norm_results = {}\n",
    "for i, data in groups.items():\n",
    "    stat, p = stats.normaltest(data)\n",
    "    ## save the p val, test statistic, and the size of the group\n",
    "    norm_results[i] = {'n': len(data),\n",
    "                             'p':p,\n",
    "                             'test stat':stat,}\n",
    "## convert to a dataframe\n",
    "norm_results_df = pd.DataFrame(norm_results).T\n",
    "norm_results_df"
   ]
  },
  {
   "cell_type": "markdown",
   "id": "cd867f7b",
   "metadata": {
    "hidden": true
   },
   "source": [
    "Our p-values for all ratings is $< 0.5$ which indicates we must reject the null hypothesis.  This means our data is not normally distributed. **However**, since our sample sizes for each group is >30 we can use the Central Limit Theorem to proceed without meeting this assumption"
   ]
  },
  {
   "cell_type": "markdown",
   "id": "d6aee87e",
   "metadata": {
    "heading_collapsed": true
   },
   "source": [
    "## Test Assumption of Equal Variance\n",
    "Use the Levene's Test\n",
    "\n",
    "For Levene's test, the null hypothesis is: All samples are from populations with equal variances."
   ]
  },
  {
   "cell_type": "code",
   "execution_count": 14,
   "id": "8a85ffe2",
   "metadata": {
    "hidden": true,
    "scrolled": true
   },
   "outputs": [
    {
     "data": {
      "text/plain": [
       "LeveneResult(statistic=47.2216847720513, pvalue=1.065299202105656e-37)"
      ]
     },
     "execution_count": 14,
     "metadata": {},
     "output_type": "execute_result"
    }
   ],
   "source": [
    "# with the * operator \n",
    "stats.levene(*groups.values())"
   ]
  },
  {
   "cell_type": "markdown",
   "id": "9f70f4ea",
   "metadata": {
    "heading_collapsed": true
   },
   "source": [
    "## Test Q1 hypothesis\n",
    "\n",
    "From our assumptions we see that we cannot reject the null hypothesis for Normality, and Equal Variance.  This implies we should use a non-parametric hypothesis test.  In this case we use [Kruskal-Wallis](https://docs.scipy.org/doc/scipy/reference/generated/scipy.stats.kruskal.html).\n",
    "\n",
    "From the Scipy documentation a KW test the null hypothesis is defined by:\n",
    "\n",
    "*The Kruskal-Wallis H-test tests the null hypothesis that the population median of all of the groups are equal. It is a non-parametric version of ANOVA. The test works on 2 or more independent samples, which may have different sizes. Note that rejecting the null hypothesis does not indicate which of the groups differs.*"
   ]
  },
  {
   "cell_type": "code",
   "execution_count": 15,
   "id": "992213f6",
   "metadata": {
    "hidden": true
   },
   "outputs": [
    {
     "data": {
      "text/plain": [
       "KruskalResult(statistic=230.3177385874439, pvalue=1.1276930384176964e-48)"
      ]
     },
     "execution_count": 15,
     "metadata": {},
     "output_type": "execute_result"
    }
   ],
   "source": [
    "# Kriskal-Wallis test\n",
    "stats.kruskal(*groups.values())"
   ]
  },
  {
   "cell_type": "markdown",
   "id": "1edec3ec",
   "metadata": {
    "hidden": true
   },
   "source": [
    "Since $p<\\alpha$, we reject the null hypothesis that the median revenue for all ratings is equal.\n",
    "\n",
    "Let's plot the distribution of revenue and the medians for each group to visualize the comparison"
   ]
  },
  {
   "cell_type": "markdown",
   "id": "e0a03a6e",
   "metadata": {
    "hidden": true
   },
   "source": [
    "### ----> NEED HELP MAKING THIS PLOT LOOK GOOD\n",
    "- [ ] Why is it showing the data twice?\n"
   ]
  },
  {
   "cell_type": "code",
   "execution_count": 46,
   "id": "449e4c0c",
   "metadata": {
    "hidden": true
   },
   "outputs": [
    {
     "name": "stdout",
     "output_type": "stream",
     "text": [
      " Rating PG Median Revenue = 146406835.93\n",
      " Rating R Median Revenue = 33581179.51\n",
      " Rating G Median Revenue = 59963729.86\n",
      " Rating NR Median Revenue = 16301523.29\n",
      " Rating PG-13 Median Revenue = 116912980.35\n"
     ]
    },
    {
     "data": {
      "image/png": "[encoded data removed]",
      "text/plain": [
       "<Figure size 1000x500 with 1 Axes>"
      ]
     },
     "metadata": {},
     "output_type": "display_data"
    }
   ],
   "source": [
    "fig, ax = plt.subplots(figsize= (10,5), constrained_layout=True);\n",
    "\n",
    "for i in groups.keys():\n",
    "    print(f\" Rating {i} Median Revenue = {np.mean(groups[i]):.2f}\")\n",
    "    ax  = sns.histplot(data = groups[i].values, label=i,ax=ax)\n",
    "    ax.axvline(np.median(groups[i]), ls='--',lw=3, \n",
    "           label=f\"{i} (Median Revenue={np.mean(groups[i]):.2f})\");\n",
    "    ax.legend(prop={\"size\":14}, loc='upper right')"
   ]
  },
  {
   "cell_type": "markdown",
   "id": "68ec43a8",
   "metadata": {
    "hidden": true
   },
   "source": [
    "### Highest Median Revenue\n",
    "- [x] Evaluation: Why do we care if the median is different?\n",
    " - When your distribution is skewed enough, the mean is strongly affected by changes far out in the distribution’s tail whereas the median continues to more closely reflect the center of the distribution. For these two distributions, a random sample of 100 from each distribution produces means that are significantly different, but medians that are not significantly different.\n",
    "---\n",
    "- The PG-rating has the highest median revenue.  \n",
    "- Followed by PG-13"
   ]
  },
  {
   "cell_type": "markdown",
   "id": "ca834cfb",
   "metadata": {},
   "source": [
    "# Q2. Median Budget vs Revenue\n",
    "Does spending more than the median budget generate higher revenue?\n",
    "\n",
    "For $\\alpha=0.05$:\n",
    "\n",
    " $H_0$(Null Hypothesis) There is no statistical difference in the budget and `revenue`.  $p<\\alpha$\n",
    " \n",
    " $H_A$(Alternative Hypothesis) There is a significant difference between the `budget` and `revenue`.  $p>\\alpha$\n",
    " \n",
    "## Define test\n",
    "- Type of Data - Revenue - numeric\n",
    "- How many groups - 2 (above/below median budget)\n",
    "- Which test is appropriate? ANOVA, Tukey, Kruskal-Wallis?\n",
    "\n",
    "## Assumptions\n",
    "1. No Significant Outliers\n",
    "2. Equal Variance\n",
    "3. Normality"
   ]
  },
  {
   "cell_type": "markdown",
   "id": "1a03c5a4",
   "metadata": {
    "heading_collapsed": true
   },
   "source": [
    "## Load/Clean/Group data\n",
    "- [x] Load `budget` and `revenue`\n",
    "- [x] Remove duplicates\n",
    "- [x] Drop NaN and 0-values\n",
    "- [x] Calculate `mean` budget and divide into 2 groups `gt:\"greater than\"`, `lt:\"less than\"`\n"
   ]
  },
  {
   "cell_type": "code",
   "execution_count": 84,
   "id": "984ca7d0",
   "metadata": {
    "hidden": true,
    "scrolled": false
   },
   "outputs": [
    {
     "data": {
      "text/html": [
       "<div>\n",
       "<style scoped>\n",
       "    .dataframe tbody tr th:only-of-type {\n",
       "        vertical-align: middle;\n",
       "    }\n",
       "\n",
       "    .dataframe tbody tr th {\n",
       "        vertical-align: top;\n",
       "    }\n",
       "\n",
       "    .dataframe thead th {\n",
       "        text-align: right;\n",
       "    }\n",
       "</style>\n",
       "<table border=\"1\" class=\"dataframe\">\n",
       "  <thead>\n",
       "    <tr style=\"text-align: right;\">\n",
       "      <th></th>\n",
       "      <th>budget</th>\n",
       "      <th>revenue</th>\n",
       "    </tr>\n",
       "  </thead>\n",
       "  <tbody>\n",
       "    <tr>\n",
       "      <th>0</th>\n",
       "      <td>NaN</td>\n",
       "      <td>NaN</td>\n",
       "    </tr>\n",
       "    <tr>\n",
       "      <th>1</th>\n",
       "      <td>10000000.0</td>\n",
       "      <td>0.0</td>\n",
       "    </tr>\n",
       "    <tr>\n",
       "      <th>2</th>\n",
       "      <td>0.0</td>\n",
       "      <td>0.0</td>\n",
       "    </tr>\n",
       "    <tr>\n",
       "      <th>3</th>\n",
       "      <td>0.0</td>\n",
       "      <td>0.0</td>\n",
       "    </tr>\n",
       "    <tr>\n",
       "      <th>4</th>\n",
       "      <td>150000.0</td>\n",
       "      <td>12854953.0</td>\n",
       "    </tr>\n",
       "  </tbody>\n",
       "</table>\n",
       "</div>"
      ],
      "text/plain": [
       "       budget     revenue\n",
       "0         NaN         NaN\n",
       "1  10000000.0         0.0\n",
       "2         0.0         0.0\n",
       "3         0.0         0.0\n",
       "4    150000.0  12854953.0"
      ]
     },
     "execution_count": 84,
     "metadata": {},
     "output_type": "execute_result"
    }
   ],
   "source": [
    "df = tmdb[[\"budget\", \"revenue\"]]\n",
    "df.head()"
   ]
  },
  {
   "cell_type": "code",
   "execution_count": 85,
   "id": "7a85b64a",
   "metadata": {
    "hidden": true
   },
   "outputs": [
    {
     "data": {
      "text/plain": [
       "24378"
      ]
     },
     "execution_count": 85,
     "metadata": {},
     "output_type": "execute_result"
    }
   ],
   "source": [
    "df.duplicated().sum()"
   ]
  },
  {
   "cell_type": "code",
   "execution_count": 86,
   "id": "dd3578c9",
   "metadata": {
    "hidden": true,
    "scrolled": true
   },
   "outputs": [
    {
     "data": {
      "text/plain": [
       "0"
      ]
     },
     "execution_count": 86,
     "metadata": {},
     "output_type": "execute_result"
    }
   ],
   "source": [
    "#drop duplicated entries\n",
    "df = df.drop_duplicates()\n",
    "df.duplicated().sum()"
   ]
  },
  {
   "cell_type": "code",
   "execution_count": 87,
   "id": "18cdcc22",
   "metadata": {
    "hidden": true
   },
   "outputs": [
    {
     "data": {
      "text/plain": [
       "budget     1\n",
       "revenue    1\n",
       "dtype: int64"
      ]
     },
     "execution_count": 87,
     "metadata": {},
     "output_type": "execute_result"
    }
   ],
   "source": [
    "#Check for NaN values\n",
    "df.isna().sum()"
   ]
  },
  {
   "cell_type": "code",
   "execution_count": 89,
   "id": "6cf60f3f",
   "metadata": {
    "hidden": true
   },
   "outputs": [
    {
     "data": {
      "text/plain": [
       "budget     0\n",
       "revenue    0\n",
       "dtype: int64"
      ]
     },
     "execution_count": 89,
     "metadata": {},
     "output_type": "execute_result"
    }
   ],
   "source": [
    "#Drop NaN values\n",
    "df.dropna(inplace=True)\n",
    "df.isna().sum()"
   ]
  },
  {
   "cell_type": "code",
   "execution_count": 95,
   "id": "db2a6b34",
   "metadata": {
    "hidden": true
   },
   "outputs": [],
   "source": [
    "#Drop budget=0 OR revenue = 0\n",
    "df = df[(df[\"budget\"]!=0)&(df[\"revenue\"]!=0)]"
   ]
  },
  {
   "cell_type": "code",
   "execution_count": 96,
   "id": "de6b01ee",
   "metadata": {
    "hidden": true
   },
   "outputs": [],
   "source": [
    "gt = df[df[\"budget\"]>=np.mean(df[\"budget\"])]"
   ]
  },
  {
   "cell_type": "code",
   "execution_count": 97,
   "id": "79e32802",
   "metadata": {
    "hidden": true
   },
   "outputs": [],
   "source": [
    "lt = df[df[\"budget\"]<np.mean(df[\"budget\"])]"
   ]
  },
  {
   "cell_type": "code",
   "execution_count": 98,
   "id": "501a209b",
   "metadata": {
    "hidden": true
   },
   "outputs": [],
   "source": [
    "df[\"budget_gt_median\"] = df[\"budget\"]>=np.mean(df[\"budget\"])"
   ]
  },
  {
   "cell_type": "markdown",
   "id": "76049116",
   "metadata": {},
   "source": [
    "## Visualize data"
   ]
  },
  {
   "cell_type": "code",
   "execution_count": 109,
   "id": "a276d86a",
   "metadata": {},
   "outputs": [
    {
     "data": {
      "text/plain": [
       "<matplotlib.legend.Legend at 0x1607d233160>"
      ]
     },
     "execution_count": 109,
     "metadata": {},
     "output_type": "execute_result"
    },
    {
     "data": {
      "image/png": "[encoded data removed]",
      "text/plain": [
       "<Figure size 1000x500 with 1 Axes>"
      ]
     },
     "metadata": {},
     "output_type": "display_data"
    }
   ],
   "source": [
    "budget_palette={'gt':'dodgerblue', \"lt\":'salmon', True:'dodgerblue', False:'salmon'}\n",
    "fig, ax = plt.subplots(figsize= (10,5), \n",
    "                                constrained_layout=True)\n",
    "\n",
    "\n",
    "# Histogram\n",
    "ax = sns.histplot(data=df, x='budget',fill=True, hue = \"budget_gt_median\", kde=True,\n",
    "                  stat='density',common_norm=False,palette = budget_palette, ax=ax)\n",
    "\n",
    "ax.axvline(np.mean(gt['revenue']), ls='--',lw=3, \n",
    "           label=f\"Greater than mean budget (Mean={np.mean(gt['budget']):.2f})\",\n",
    "          color=budget_palette['gt'])\n",
    "\n",
    "ax.axvline(np.mean(lt['revenue']), ls='--', lw=3, \n",
    "           label=f\"Less than mean budget (Mean={np.mean(lt['budget']):.2f})\",\n",
    "          color=budget_palette['lt'])\n",
    "\n",
    "ax.legend(prop={\"size\":14}, loc='upper right')#bbox_to_anchor=[1,1])"
   ]
  },
  {
   "cell_type": "code",
   "execution_count": null,
   "id": "0c9e8f52",
   "metadata": {},
   "outputs": [],
   "source": []
  },
  {
   "cell_type": "markdown",
   "id": "8aa2b80f",
   "metadata": {},
   "source": [
    "## Test Assumption of no significant outliers"
   ]
  },
  {
   "cell_type": "code",
   "execution_count": 110,
   "id": "6e996ae5",
   "metadata": {
    "scrolled": false
   },
   "outputs": [
    {
     "data": {
      "text/plain": [
       "budget      5\n",
       "revenue    11\n",
       "dtype: int64"
      ]
     },
     "execution_count": 110,
     "metadata": {},
     "output_type": "execute_result"
    }
   ],
   "source": [
    "zscores = stats.zscore(gt)\n",
    "outliers = abs(zscores)>3\n",
    "np.sum(outliers)"
   ]
  },
  {
   "cell_type": "code",
   "execution_count": 111,
   "id": "b2b1ed06",
   "metadata": {},
   "outputs": [],
   "source": [
    "gt = gt[(np.abs(stats.zscore(gt)) < 3)]"
   ]
  },
  {
   "cell_type": "code",
   "execution_count": 112,
   "id": "543773f9",
   "metadata": {
    "scrolled": true
   },
   "outputs": [
    {
     "data": {
      "text/plain": [
       "budget     0\n",
       "revenue    0\n",
       "dtype: int64"
      ]
     },
     "execution_count": 112,
     "metadata": {},
     "output_type": "execute_result"
    }
   ],
   "source": [
    "zscores = stats.zscore(gt)\n",
    "outliers = abs(zscores)>3\n",
    "np.sum(outliers)"
   ]
  },
  {
   "cell_type": "code",
   "execution_count": 113,
   "id": "3f053303",
   "metadata": {
    "scrolled": false
   },
   "outputs": [
    {
     "data": {
      "text/plain": [
       "budget      0\n",
       "revenue    26\n",
       "dtype: int64"
      ]
     },
     "execution_count": 113,
     "metadata": {},
     "output_type": "execute_result"
    }
   ],
   "source": [
    "zscores = stats.zscore(lt)\n",
    "outliers = abs(zscores)>3\n",
    "np.sum(outliers)"
   ]
  },
  {
   "cell_type": "code",
   "execution_count": 115,
   "id": "9e797941",
   "metadata": {},
   "outputs": [],
   "source": [
    "lt = lt[(np.abs(stats.zscore(lt)) < 3)]"
   ]
  },
  {
   "cell_type": "code",
   "execution_count": 116,
   "id": "a1e74edd",
   "metadata": {},
   "outputs": [
    {
     "data": {
      "text/plain": [
       "budget     0\n",
       "revenue    0\n",
       "dtype: int64"
      ]
     },
     "execution_count": 116,
     "metadata": {},
     "output_type": "execute_result"
    }
   ],
   "source": [
    "zscores = stats.zscore(lt)\n",
    "outliers = abs(zscores)>3\n",
    "np.sum(outliers)"
   ]
  },
  {
   "cell_type": "markdown",
   "id": "cc336809",
   "metadata": {},
   "source": [
    "## Test Assumption of Normality\n",
    "**Use:**  `scipy.stats.normaltest`. From the docs: \n",
    "\"This function tests the null hypothesis that a sample comes from a normal distribution.\"\n",
    "\n",
    "A p-value less than 0.05 says our distribution is significantly different than a normal distribution."
   ]
  },
  {
   "cell_type": "code",
   "execution_count": 117,
   "id": "b9f4ba6f",
   "metadata": {},
   "outputs": [],
   "source": [
    "stat, p = stats.normaltest(gt)"
   ]
  },
  {
   "cell_type": "code",
   "execution_count": 119,
   "id": "b7e467e9",
   "metadata": {},
   "outputs": [
    {
     "name": "stdout",
     "output_type": "stream",
     "text": [
      "Stat [nan nan], p-value [nan nan]\n"
     ]
    }
   ],
   "source": [
    "print(f'Stat {stat}, p-value {p}')"
   ]
  },
  {
   "cell_type": "markdown",
   "id": "51782740",
   "metadata": {},
   "source": [
    "## Test Assumption of Equal Variance\n"
   ]
  },
  {
   "cell_type": "markdown",
   "id": "b42b5f71",
   "metadata": {},
   "source": [
    "## Test Q2 hypothesis\n"
   ]
  },
  {
   "cell_type": "code",
   "execution_count": null,
   "id": "cab41424",
   "metadata": {},
   "outputs": [],
   "source": []
  }
 ],
 "metadata": {
  "kernelspec": {
   "display_name": "Python (dojo-env)",
   "language": "python",
   "name": "dojo-env"
  },
  "language_info": {
   "codemirror_mode": {
    "name": "ipython",
    "version": 3
   },
   "file_extension": ".py",
   "mimetype": "text/x-python",
   "name": "python",
   "nbconvert_exporter": "python",
   "pygments_lexer": "ipython3",
   "version": "3.9.15"
  },
  "toc": {
   "base_numbering": 1,
   "nav_menu": {},
   "number_sections": false,
   "sideBar": true,
   "skip_h1_title": false,
   "title_cell": "Table of Contents",
   "title_sidebar": "Contents",
   "toc_cell": false,
   "toc_position": {
    "height": "calc(100% - 180px)",
    "left": "10px",
    "top": "150px",
    "width": "384px"
   },
   "toc_section_display": true,
   "toc_window_display": true
  }
 },
 "nbformat": 4,
 "nbformat_minor": 5
}
