{
 "cells": [
  {
   "cell_type": "markdown",
   "id": "ed4053fa",
   "metadata": {},
   "source": [
    "# Part 4\n",
    "\n",
    "Jon Messier\n",
    "\n",
    "3/16/2021\n",
    "\n",
    "\n",
    "For part 4 of the project, you will be using your MySQL database from part 3 to answer meaningful questions for your stakeholder. They want you to use your hypothesis testing and statistics knowledge to answer 3 questions about what makes a successful movie.\n",
    "\n",
    "---\n",
    "\n",
    "## Questions to Answer\n",
    "- [ ] The stakeholder's first question is: does the MPAA rating of a movie (G/PG/PG-13/R) affect how much revenue the movie generates?\n",
    "    - [ ] They want you to perform a statistical test to get a mathematically-supported answer.\n",
    "    - [ ] They want you to report if you found a significant difference between ratings.\n",
    "        - [ ] If so, what was the p-value of your analysis?\n",
    "        - [ ] And which rating earns the most revenue?\n",
    "    - They want you to prepare a visualization that supports your finding.\n",
    "\n",
    "\n",
    "\n",
    "- [ ] It is then up to you to think of 2 additional hypotheses to test that your stakeholder may want to know.\n",
    "\n",
    "Some example hypotheses you could test:\n",
    "\n",
    "- [ ] Do movies that are over 2.5 hours long earn more revenue than movies that are 1.5 hours long (or less)?\n",
    "- [ ] Do movies released in 2020 earn less revenue than movies released in 2018?\n",
    "  - [ ] How do the years compare for movie ratings?\n",
    "  - [ ]  Do some movie genres earn more revenue than others?\n",
    "  - [ ] Are some genres higher rated than others? etc.\n",
    "\n",
    "## Specifications\n",
    "### Your Data\n",
    "A critical first step for this assignment will be to retrieve additional movie data to add to your SQL database.\n",
    " - [ ]   You will want to use the TMDB API again and extract data for additional years.\n",
    " - [ ]  You may want to review the optional lesson from Week 1 on \"Using glob to Load Many Files\" to load and combine all of your API results for each year.\n",
    "\n",
    " - [ ]  However, trying to extract the TMDB data for all movies from 2000-2022 could take >24 hours!\n",
    " - [ ]   To address this issue, you should EITHER:\n",
    "   - [ ]     Define a smaller (but logical) period of time to use for your analyses (e.g. last 10 years, 2010-2019 (pre-pandemic, etc).\n",
    "   - [ ]    OR coordinate with cohort-mates and divide the API calls so that you can all download the data for a smaller number of years and then share your downloaded JSON data.\n",
    "   \n",
    "## Deliverables\n",
    "- [ ]  You should use the same project repository you have been using for Parts 1-3 (for your portfolio).\n",
    "- [ ]  Create a new notebook in your project repository just for the hypothesis testing (like \"Part 4 - Hypothesis Testing.ipynb\")\n",
    "- [ ] Make sure the results and visualization for all 3 hypotheses are in your notebook."
   ]
  },
  {
   "cell_type": "markdown",
   "id": "d6060789",
   "metadata": {
    "heading_collapsed": true
   },
   "source": [
    "# Class Imports"
   ]
  },
  {
   "cell_type": "code",
   "execution_count": 1,
   "id": "81c4366e",
   "metadata": {
    "hidden": true
   },
   "outputs": [],
   "source": [
    "import json\n",
    "import pandas as pd\n",
    "import numpy as np\n",
    "\n",
    "import matplotlib.pyplot as plt\n",
    "import seaborn as sns\n",
    "\n",
    "from scipy import stats\n",
    "import scipy\n",
    "\n",
    "import pymysql\n",
    "pymysql.install_as_MySQLdb()\n",
    "\n",
    "from sqlalchemy import create_engine\n",
    "from sqlalchemy_utils import create_database, database_exists"
   ]
  },
  {
   "cell_type": "markdown",
   "id": "428a82d1",
   "metadata": {
    "heading_collapsed": true
   },
   "source": [
    "# Load Data\n",
    "Use the TMDB json files in '/Data' to create our data frame"
   ]
  },
  {
   "cell_type": "code",
   "execution_count": 2,
   "id": "cda05492",
   "metadata": {
    "hidden": true,
    "scrolled": true
   },
   "outputs": [
    {
     "data": {
      "text/plain": [
       "['Data\\\\tmdb_api_results_2000.json',\n",
       " 'Data\\\\tmdb_api_results_2001.json',\n",
       " 'Data\\\\tmdb_api_results_2002.json',\n",
       " 'Data\\\\tmdb_api_results_2003.json',\n",
       " 'Data\\\\tmdb_api_results_2004.json']"
      ]
     },
     "execution_count": 2,
     "metadata": {},
     "output_type": "execute_result"
    }
   ],
   "source": [
    "import glob\n",
    "q = \"Data/tmdb_api_results_*.json\"\n",
    "chunked_files = glob.glob(q)\n",
    "# Showing the first 5\n",
    "chunked_files[:5]"
   ]
  },
  {
   "cell_type": "code",
   "execution_count": 3,
   "id": "1fd244b3",
   "metadata": {
    "hidden": true
   },
   "outputs": [
    {
     "data": {
      "text/html": [
       "<div>\n",
       "<style scoped>\n",
       "    .dataframe tbody tr th:only-of-type {\n",
       "        vertical-align: middle;\n",
       "    }\n",
       "\n",
       "    .dataframe tbody tr th {\n",
       "        vertical-align: top;\n",
       "    }\n",
       "\n",
       "    .dataframe thead th {\n",
       "        text-align: right;\n",
       "    }\n",
       "</style>\n",
       "<table border=\"1\" class=\"dataframe\">\n",
       "  <thead>\n",
       "    <tr style=\"text-align: right;\">\n",
       "      <th></th>\n",
       "      <th>imdb_id</th>\n",
       "      <th>adult</th>\n",
       "      <th>backdrop_path</th>\n",
       "      <th>belongs_to_collection</th>\n",
       "      <th>budget</th>\n",
       "      <th>genres</th>\n",
       "      <th>homepage</th>\n",
       "      <th>id</th>\n",
       "      <th>original_language</th>\n",
       "      <th>original_title</th>\n",
       "      <th>...</th>\n",
       "      <th>revenue</th>\n",
       "      <th>runtime</th>\n",
       "      <th>spoken_languages</th>\n",
       "      <th>status</th>\n",
       "      <th>tagline</th>\n",
       "      <th>title</th>\n",
       "      <th>video</th>\n",
       "      <th>vote_average</th>\n",
       "      <th>vote_count</th>\n",
       "      <th>certification</th>\n",
       "    </tr>\n",
       "  </thead>\n",
       "  <tbody>\n",
       "    <tr>\n",
       "      <th>0</th>\n",
       "      <td>0</td>\n",
       "      <td>NaN</td>\n",
       "      <td>NaN</td>\n",
       "      <td>NaN</td>\n",
       "      <td>NaN</td>\n",
       "      <td>NaN</td>\n",
       "      <td>NaN</td>\n",
       "      <td>NaN</td>\n",
       "      <td>NaN</td>\n",
       "      <td>NaN</td>\n",
       "      <td>...</td>\n",
       "      <td>NaN</td>\n",
       "      <td>NaN</td>\n",
       "      <td>NaN</td>\n",
       "      <td>NaN</td>\n",
       "      <td>NaN</td>\n",
       "      <td>NaN</td>\n",
       "      <td>NaN</td>\n",
       "      <td>NaN</td>\n",
       "      <td>NaN</td>\n",
       "      <td>NaN</td>\n",
       "    </tr>\n",
       "    <tr>\n",
       "      <th>1</th>\n",
       "      <td>tt0113026</td>\n",
       "      <td>0.0</td>\n",
       "      <td>/vMFs7nw6P0bIV1jDsQpxAieAVnH.jpg</td>\n",
       "      <td>None</td>\n",
       "      <td>10000000.0</td>\n",
       "      <td>[{'id': 35, 'name': 'Comedy'}, {'id': 10402, '...</td>\n",
       "      <td></td>\n",
       "      <td>62127.0</td>\n",
       "      <td>en</td>\n",
       "      <td>The Fantasticks</td>\n",
       "      <td>...</td>\n",
       "      <td>0.0</td>\n",
       "      <td>86.0</td>\n",
       "      <td>[{'english_name': 'English', 'iso_639_1': 'en'...</td>\n",
       "      <td>Released</td>\n",
       "      <td>Try to remember the first time magic happened</td>\n",
       "      <td>The Fantasticks</td>\n",
       "      <td>0.0</td>\n",
       "      <td>5.500</td>\n",
       "      <td>22.0</td>\n",
       "      <td></td>\n",
       "    </tr>\n",
       "    <tr>\n",
       "      <th>2</th>\n",
       "      <td>tt0113092</td>\n",
       "      <td>0.0</td>\n",
       "      <td>None</td>\n",
       "      <td>None</td>\n",
       "      <td>0.0</td>\n",
       "      <td>[{'id': 878, 'name': 'Science Fiction'}]</td>\n",
       "      <td></td>\n",
       "      <td>110977.0</td>\n",
       "      <td>en</td>\n",
       "      <td>For the Cause</td>\n",
       "      <td>...</td>\n",
       "      <td>0.0</td>\n",
       "      <td>100.0</td>\n",
       "      <td>[{'english_name': 'English', 'iso_639_1': 'en'...</td>\n",
       "      <td>Released</td>\n",
       "      <td>The ultimate showdown on a forbidden planet.</td>\n",
       "      <td>For the Cause</td>\n",
       "      <td>0.0</td>\n",
       "      <td>5.100</td>\n",
       "      <td>8.0</td>\n",
       "      <td></td>\n",
       "    </tr>\n",
       "    <tr>\n",
       "      <th>3</th>\n",
       "      <td>tt0116391</td>\n",
       "      <td>0.0</td>\n",
       "      <td>None</td>\n",
       "      <td>None</td>\n",
       "      <td>0.0</td>\n",
       "      <td>[{'id': 18, 'name': 'Drama'}, {'id': 28, 'name...</td>\n",
       "      <td></td>\n",
       "      <td>442869.0</td>\n",
       "      <td>hi</td>\n",
       "      <td>Gang</td>\n",
       "      <td>...</td>\n",
       "      <td>0.0</td>\n",
       "      <td>152.0</td>\n",
       "      <td>[{'english_name': 'Hindi', 'iso_639_1': 'hi', ...</td>\n",
       "      <td>Released</td>\n",
       "      <td></td>\n",
       "      <td>Gang</td>\n",
       "      <td>0.0</td>\n",
       "      <td>4.000</td>\n",
       "      <td>1.0</td>\n",
       "      <td>NaN</td>\n",
       "    </tr>\n",
       "    <tr>\n",
       "      <th>4</th>\n",
       "      <td>tt0118694</td>\n",
       "      <td>0.0</td>\n",
       "      <td>/n4GJFGzsc7NinI1VeGDXIcQjtU2.jpg</td>\n",
       "      <td>None</td>\n",
       "      <td>150000.0</td>\n",
       "      <td>[{'id': 18, 'name': 'Drama'}, {'id': 10749, 'n...</td>\n",
       "      <td></td>\n",
       "      <td>843.0</td>\n",
       "      <td>cn</td>\n",
       "      <td>花樣年華</td>\n",
       "      <td>...</td>\n",
       "      <td>12854953.0</td>\n",
       "      <td>99.0</td>\n",
       "      <td>[{'english_name': 'Cantonese', 'iso_639_1': 'c...</td>\n",
       "      <td>Released</td>\n",
       "      <td>Feel the heat, keep the feeling burning, let t...</td>\n",
       "      <td>In the Mood for Love</td>\n",
       "      <td>0.0</td>\n",
       "      <td>8.115</td>\n",
       "      <td>2133.0</td>\n",
       "      <td>PG</td>\n",
       "    </tr>\n",
       "  </tbody>\n",
       "</table>\n",
       "<p>5 rows × 26 columns</p>\n",
       "</div>"
      ],
      "text/plain": [
       "     imdb_id  adult                     backdrop_path belongs_to_collection  \\\n",
       "0          0    NaN                               NaN                   NaN   \n",
       "1  tt0113026    0.0  /vMFs7nw6P0bIV1jDsQpxAieAVnH.jpg                  None   \n",
       "2  tt0113092    0.0                              None                  None   \n",
       "3  tt0116391    0.0                              None                  None   \n",
       "4  tt0118694    0.0  /n4GJFGzsc7NinI1VeGDXIcQjtU2.jpg                  None   \n",
       "\n",
       "       budget                                             genres homepage  \\\n",
       "0         NaN                                                NaN      NaN   \n",
       "1  10000000.0  [{'id': 35, 'name': 'Comedy'}, {'id': 10402, '...            \n",
       "2         0.0           [{'id': 878, 'name': 'Science Fiction'}]            \n",
       "3         0.0  [{'id': 18, 'name': 'Drama'}, {'id': 28, 'name...            \n",
       "4    150000.0  [{'id': 18, 'name': 'Drama'}, {'id': 10749, 'n...            \n",
       "\n",
       "         id original_language   original_title  ...     revenue  runtime  \\\n",
       "0       NaN               NaN              NaN  ...         NaN      NaN   \n",
       "1   62127.0                en  The Fantasticks  ...         0.0     86.0   \n",
       "2  110977.0                en    For the Cause  ...         0.0    100.0   \n",
       "3  442869.0                hi             Gang  ...         0.0    152.0   \n",
       "4     843.0                cn             花樣年華  ...  12854953.0     99.0   \n",
       "\n",
       "                                    spoken_languages    status  \\\n",
       "0                                                NaN       NaN   \n",
       "1  [{'english_name': 'English', 'iso_639_1': 'en'...  Released   \n",
       "2  [{'english_name': 'English', 'iso_639_1': 'en'...  Released   \n",
       "3  [{'english_name': 'Hindi', 'iso_639_1': 'hi', ...  Released   \n",
       "4  [{'english_name': 'Cantonese', 'iso_639_1': 'c...  Released   \n",
       "\n",
       "                                             tagline                 title  \\\n",
       "0                                                NaN                   NaN   \n",
       "1      Try to remember the first time magic happened       The Fantasticks   \n",
       "2       The ultimate showdown on a forbidden planet.         For the Cause   \n",
       "3                                                                     Gang   \n",
       "4  Feel the heat, keep the feeling burning, let t...  In the Mood for Love   \n",
       "\n",
       "   video  vote_average vote_count certification  \n",
       "0    NaN           NaN        NaN           NaN  \n",
       "1    0.0         5.500       22.0                \n",
       "2    0.0         5.100        8.0                \n",
       "3    0.0         4.000        1.0           NaN  \n",
       "4    0.0         8.115     2133.0            PG  \n",
       "\n",
       "[5 rows x 26 columns]"
      ]
     },
     "execution_count": 3,
     "metadata": {},
     "output_type": "execute_result"
    }
   ],
   "source": [
    "## Loading and Concatenating the list of dfs with 1 line\n",
    "tmdb = pd.concat([pd.read_json(file) for file in chunked_files])\n",
    "tmdb.head()"
   ]
  },
  {
   "cell_type": "code",
   "execution_count": 4,
   "id": "2aa3abbe",
   "metadata": {
    "hidden": true
   },
   "outputs": [
    {
     "name": "stdout",
     "output_type": "stream",
     "text": [
      "<class 'pandas.core.frame.DataFrame'>\n",
      "Int64Index: 27967 entries, 0 to 3891\n",
      "Data columns (total 26 columns):\n",
      " #   Column                 Non-Null Count  Dtype  \n",
      "---  ------                 --------------  -----  \n",
      " 0   imdb_id                27967 non-null  object \n",
      " 1   adult                  27946 non-null  float64\n",
      " 2   backdrop_path          19967 non-null  object \n",
      " 3   belongs_to_collection  1709 non-null   object \n",
      " 4   budget                 27946 non-null  float64\n",
      " 5   genres                 27946 non-null  object \n",
      " 6   homepage               27946 non-null  object \n",
      " 7   id                     27946 non-null  float64\n",
      " 8   original_language      27946 non-null  object \n",
      " 9   original_title         27946 non-null  object \n",
      " 10  overview               27946 non-null  object \n",
      " 11  popularity             27946 non-null  float64\n",
      " 12  poster_path            26829 non-null  object \n",
      " 13  production_companies   27946 non-null  object \n",
      " 14  production_countries   27946 non-null  object \n",
      " 15  release_date           27946 non-null  object \n",
      " 16  revenue                27946 non-null  float64\n",
      " 17  runtime                27946 non-null  float64\n",
      " 18  spoken_languages       27946 non-null  object \n",
      " 19  status                 27946 non-null  object \n",
      " 20  tagline                27946 non-null  object \n",
      " 21  title                  27946 non-null  object \n",
      " 22  video                  27946 non-null  float64\n",
      " 23  vote_average           27946 non-null  float64\n",
      " 24  vote_count             27946 non-null  float64\n",
      " 25  certification          15683 non-null  object \n",
      "dtypes: float64(9), object(17)\n",
      "memory usage: 5.8+ MB\n"
     ]
    }
   ],
   "source": [
    "tmdb.info()"
   ]
  },
  {
   "cell_type": "markdown",
   "id": "2334852c",
   "metadata": {
    "heading_collapsed": true
   },
   "source": [
    "# Custom Functions"
   ]
  },
  {
   "cell_type": "markdown",
   "id": "33a9db3e",
   "metadata": {},
   "source": [
    "# Q1. MPAA v. Revenue\n",
    "\n",
    "For $\\alpha=0.05$:\n",
    "\n",
    " $H_0$(Null Hypothesis) There is no statistical difference in the MPAA rating (`certification`) and `revenue`.  $p<\\alpha$\n",
    " \n",
    " $H_A$(Alternative Hypothesis) There is a significant difference in the MPAA rating (`certification`) and `revenue`.  $p>\\alpha$\n",
    " \n",
    "## Define test\n",
    "- Type of Data - Revenue - numeric\n",
    "- How many groups - Certification (G, PG, PG-13, R, NC-17, NR) = 6\n",
    "- Which test is appropriate? ANOVA, Tukey, Kruskal-Wallis?\n",
    "\n",
    "## Assumptions\n",
    "1. No Significant Outliers\n",
    "2. Equal Variance\n",
    "3. Normality"
   ]
  },
  {
   "cell_type": "markdown",
   "id": "70463c28",
   "metadata": {},
   "source": [
    "## Explore/Clean data"
   ]
  },
  {
   "cell_type": "code",
   "execution_count": 5,
   "id": "befa9382",
   "metadata": {},
   "outputs": [],
   "source": [
    "df = tmdb[['certification','revenue']]"
   ]
  },
  {
   "cell_type": "code",
   "execution_count": 6,
   "id": "21870e86",
   "metadata": {
    "scrolled": false
   },
   "outputs": [
    {
     "data": {
      "text/plain": [
       "25036"
      ]
     },
     "execution_count": 6,
     "metadata": {},
     "output_type": "execute_result"
    }
   ],
   "source": [
    "# Duplicates?\n",
    "df.duplicated().sum()"
   ]
  },
  {
   "cell_type": "code",
   "execution_count": 7,
   "id": "56f166d9",
   "metadata": {},
   "outputs": [
    {
     "data": {
      "text/plain": [
       "0"
      ]
     },
     "execution_count": 7,
     "metadata": {},
     "output_type": "execute_result"
    }
   ],
   "source": [
    "#drop duplicated entries\n",
    "df = df.drop_duplicates()\n",
    "df.duplicated().sum()"
   ]
  },
  {
   "cell_type": "code",
   "execution_count": 8,
   "id": "e4218a71",
   "metadata": {
    "scrolled": false
   },
   "outputs": [
    {
     "data": {
      "text/plain": [
       "R          820\n",
       "PG-13      570\n",
       "           488\n",
       "PG         219\n",
       "NR         104\n",
       "G           50\n",
       "NC-17        7\n",
       "Unrated      1\n",
       "-            1\n",
       "Name: certification, dtype: int64"
      ]
     },
     "execution_count": 8,
     "metadata": {},
     "output_type": "execute_result"
    }
   ],
   "source": [
    "#How many categories do we have\n",
    "df['certification'].value_counts()"
   ]
  },
  {
   "cell_type": "markdown",
   "id": "32789cfb",
   "metadata": {},
   "source": [
    "For this hypthesis testing, I will drop the `certification = NaN, Unrated, and \"-\"` values.  These values are:\n",
    "1. Impossible to qualify with out looking at each of the 10046 entries individually in the case of NaN\n",
    "2. Statistically insignificant in the case of `Unrated`, `NC-17` and `\"-\"`"
   ]
  },
  {
   "cell_type": "code",
   "execution_count": 9,
   "id": "1f215b6e",
   "metadata": {
    "scrolled": true
   },
   "outputs": [
    {
     "data": {
      "text/plain": [
       "R        820\n",
       "PG-13    570\n",
       "PG       219\n",
       "NR       104\n",
       "G         50\n",
       "Name: certification, dtype: int64"
      ]
     },
     "execution_count": 9,
     "metadata": {},
     "output_type": "execute_result"
    }
   ],
   "source": [
    "df = df.dropna(axis=0,subset=\"certification\")\n",
    "df = df[(df['certification']!='Unrated') & (df['certification']!='-') & (df['certification']!='NC-17') & (df['certification']!='')]\n",
    "df['certification'].value_counts()"
   ]
  },
  {
   "cell_type": "markdown",
   "id": "abdba133",
   "metadata": {},
   "source": [
    "## Exploratory Visual\n"
   ]
  },
  {
   "cell_type": "code",
   "execution_count": 10,
   "id": "1fe93e8d",
   "metadata": {
    "scrolled": true
   },
   "outputs": [
    {
     "data": {
      "text/plain": [
       "<AxesSubplot: xlabel='certification', ylabel='revenue'>"
      ]
     },
     "execution_count": 10,
     "metadata": {},
     "output_type": "execute_result"
    },
    {
     "data": {
      "image/png": "[encoded data removed]",
      "text/plain": [
       "<Figure size 640x480 with 1 Axes>"
      ]
     },
     "metadata": {},
     "output_type": "display_data"
    }
   ],
   "source": [
    "sns.barplot(data = df, x='certification', y= 'revenue')"
   ]
  },
  {
   "cell_type": "code",
   "execution_count": 11,
   "id": "6235c3f4",
   "metadata": {},
   "outputs": [
    {
     "data": {
      "text/plain": [
       "dict_keys(['PG', 'R', 'G', 'NR', 'PG-13'])"
      ]
     },
     "execution_count": 11,
     "metadata": {},
     "output_type": "execute_result"
    }
   ],
   "source": [
    "#Divide into groups to make it easier to work with in the future\n",
    "groups ={}\n",
    "for i in df['certification'].unique():\n",
    "    ## Get series for group and rename\n",
    "    data = df.loc[df['certification']==i,'revenue'].copy()\n",
    "    \n",
    "    # save into the dictionary\n",
    "    groups[i] = data\n",
    "groups.keys()"
   ]
  },
  {
   "cell_type": "markdown",
   "id": "30df8fdd",
   "metadata": {},
   "source": [
    "## Test Assumption of no significant outliers"
   ]
  },
  {
   "cell_type": "code",
   "execution_count": 12,
   "id": "754f8ab9",
   "metadata": {
    "scrolled": false
   },
   "outputs": [
    {
     "name": "stdout",
     "output_type": "stream",
     "text": [
      "For certification = PG, there are 6 outliers\n",
      "Outliers have been removed\n",
      "For certification = R, there are 21 outliers\n",
      "Outliers have been removed\n",
      "For certification = G, there are 1 outliers\n",
      "Outliers have been removed\n",
      "For certification = NR, there are 3 outliers\n",
      "Outliers have been removed\n",
      "For certification = PG-13, there are 15 outliers\n",
      "Outliers have been removed\n"
     ]
    }
   ],
   "source": [
    "for i, data in groups.items():\n",
    "    zscores = stats.zscore(data)\n",
    "    outliers = abs(zscores)>3\n",
    "    print(f'For certification = {i}, there are {np.sum(outliers)} outliers')\n",
    "    groups[i] = groups[i][(np.abs(stats.zscore(groups[i])) < 3)]\n",
    "    print(f'Outliers have been removed')"
   ]
  },
  {
   "cell_type": "markdown",
   "id": "312f3e9e",
   "metadata": {},
   "source": [
    "By removing outliers greater than 3 standard deviations from the mean, we satisfy the assumption of no significant outliers"
   ]
  },
  {
   "cell_type": "markdown",
   "id": "77bb2494",
   "metadata": {},
   "source": [
    "## Test Assumption of Normality\n",
    "**Use:**  `scipy.stats.normaltest`. From the docs: \n",
    "\"This function tests the null hypothesis that a sample comes from a normal distribution.\"\n",
    "\n",
    "A p-value less than 0.05 says our distribution is significantly different than a normal distribution."
   ]
  },
  {
   "cell_type": "code",
   "execution_count": 13,
   "id": "97e44044",
   "metadata": {},
   "outputs": [
    {
     "data": {
      "text/html": [
       "<div>\n",
       "<style scoped>\n",
       "    .dataframe tbody tr th:only-of-type {\n",
       "        vertical-align: middle;\n",
       "    }\n",
       "\n",
       "    .dataframe tbody tr th {\n",
       "        vertical-align: top;\n",
       "    }\n",
       "\n",
       "    .dataframe thead th {\n",
       "        text-align: right;\n",
       "    }\n",
       "</style>\n",
       "<table border=\"1\" class=\"dataframe\">\n",
       "  <thead>\n",
       "    <tr style=\"text-align: right;\">\n",
       "      <th></th>\n",
       "      <th>n</th>\n",
       "      <th>p</th>\n",
       "      <th>test stat</th>\n",
       "    </tr>\n",
       "  </thead>\n",
       "  <tbody>\n",
       "    <tr>\n",
       "      <th>PG</th>\n",
       "      <td>213.0</td>\n",
       "      <td>4.159352e-25</td>\n",
       "      <td>112.278536</td>\n",
       "    </tr>\n",
       "    <tr>\n",
       "      <th>R</th>\n",
       "      <td>799.0</td>\n",
       "      <td>9.568299e-96</td>\n",
       "      <td>437.579427</td>\n",
       "    </tr>\n",
       "    <tr>\n",
       "      <th>G</th>\n",
       "      <td>49.0</td>\n",
       "      <td>2.931453e-12</td>\n",
       "      <td>53.111046</td>\n",
       "    </tr>\n",
       "    <tr>\n",
       "      <th>NR</th>\n",
       "      <td>101.0</td>\n",
       "      <td>3.578362e-12</td>\n",
       "      <td>52.712232</td>\n",
       "    </tr>\n",
       "    <tr>\n",
       "      <th>PG-13</th>\n",
       "      <td>555.0</td>\n",
       "      <td>6.041824e-63</td>\n",
       "      <td>286.528310</td>\n",
       "    </tr>\n",
       "  </tbody>\n",
       "</table>\n",
       "</div>"
      ],
      "text/plain": [
       "           n             p   test stat\n",
       "PG     213.0  4.159352e-25  112.278536\n",
       "R      799.0  9.568299e-96  437.579427\n",
       "G       49.0  2.931453e-12   53.111046\n",
       "NR     101.0  3.578362e-12   52.712232\n",
       "PG-13  555.0  6.041824e-63  286.528310"
      ]
     },
     "execution_count": 13,
     "metadata": {},
     "output_type": "execute_result"
    }
   ],
   "source": [
    "## Running normal test on each group and confirming there are >20 in each group\n",
    "norm_results = {}\n",
    "for i, data in groups.items():\n",
    "    stat, p = stats.normaltest(data)\n",
    "    ## save the p val, test statistic, and the size of the group\n",
    "    norm_results[i] = {'n': len(data),\n",
    "                             'p':p,\n",
    "                             'test stat':stat,}\n",
    "## convert to a dataframe\n",
    "norm_results_df = pd.DataFrame(norm_results).T\n",
    "norm_results_df"
   ]
  },
  {
   "cell_type": "markdown",
   "id": "cd867f7b",
   "metadata": {},
   "source": [
    "Our p-values for all ratings is $<0.5$ which indicates we must reject the null hypothesis.  This means our data is not normally distributed. **However**, since our sample sizes for each group is >30 we can use the Central Limit Theorem to proceed without meeting this assumption"
   ]
  },
  {
   "cell_type": "markdown",
   "id": "d6aee87e",
   "metadata": {},
   "source": [
    "## Test Assumption of Equal Variance\n",
    "Use the Levene's Test\n",
    "\n",
    "For Levene's test, the null hypothesis is: All samples are from populations with equal variances."
   ]
  },
  {
   "cell_type": "code",
   "execution_count": 14,
   "id": "8a85ffe2",
   "metadata": {
    "scrolled": false
   },
   "outputs": [
    {
     "data": {
      "text/plain": [
       "LeveneResult(statistic=47.2216847720513, pvalue=1.065299202105656e-37)"
      ]
     },
     "execution_count": 14,
     "metadata": {},
     "output_type": "execute_result"
    }
   ],
   "source": [
    "# with the * operator \n",
    "stats.levene(*groups.values())"
   ]
  },
  {
   "cell_type": "markdown",
   "id": "34443e99",
   "metadata": {},
   "source": [
    "With $p<\\alpha$ we thus reject the null hypothesis and conclude that our data does not have equal variance."
   ]
  },
  {
   "cell_type": "markdown",
   "id": "ffce0845",
   "metadata": {},
   "source": [
    "## Test Q1 hypothesis\n",
    "\n",
    "From our assumptions we see that we reject the null hypothesis for Normality, and Equal Variance.  This implies we should use a non-parametric hypothesis test.  In this case we use [Kruskal-Wallis](https://docs.scipy.org/doc/scipy/reference/generated/scipy.stats.kruskal.html).\n",
    "\n",
    "From the Scipy documentation a KW test the null hypothesis is defined by:\n",
    "\n",
    "*The Kruskal-Wallis H-test tests the null hypothesis that the population median of all of the groups are equal. It is a non-parametric version of ANOVA. The test works on 2 or more independent samples, which may have different sizes. Note that rejecting the null hypothesis does not indicate which of the groups differs.*"
   ]
  },
  {
   "cell_type": "code",
   "execution_count": 15,
   "id": "992213f6",
   "metadata": {
    "scrolled": true
   },
   "outputs": [
    {
     "data": {
      "text/plain": [
       "KruskalResult(statistic=230.3177385874439, pvalue=1.1276930384176964e-48)"
      ]
     },
     "execution_count": 15,
     "metadata": {},
     "output_type": "execute_result"
    }
   ],
   "source": [
    "# Kriskal-Wallis test\n",
    "stats.kruskal(*groups.values())"
   ]
  },
  {
   "cell_type": "markdown",
   "id": "2ed4c746",
   "metadata": {},
   "source": [
    "Since $p<\\alpha$, we reject the null hypothesis that the median revenue for all ratings is equal.\n",
    "\n",
    "Let's plot the distribution of revenue and the medians for each group to visualize the comparison"
   ]
  },
  {
   "cell_type": "code",
   "execution_count": 16,
   "id": "b3635cdb",
   "metadata": {},
   "outputs": [
    {
     "data": {
      "image/png": "[encoded data removed]",
      "text/plain": [
       "<Figure size 640x480 with 1 Axes>"
      ]
     },
     "metadata": {},
     "output_type": "display_data"
    }
   ],
   "source": [
    "sns.barplot(data = df, x='certification', y='revenue');"
   ]
  },
  {
   "cell_type": "code",
   "execution_count": 17,
   "id": "df6edc41",
   "metadata": {
    "scrolled": true
   },
   "outputs": [
    {
     "data": {
      "text/html": [
       "<div>\n",
       "<style scoped>\n",
       "    .dataframe tbody tr th:only-of-type {\n",
       "        vertical-align: middle;\n",
       "    }\n",
       "\n",
       "    .dataframe tbody tr th {\n",
       "        vertical-align: top;\n",
       "    }\n",
       "\n",
       "    .dataframe thead th {\n",
       "        text-align: right;\n",
       "    }\n",
       "</style>\n",
       "<table border=\"1\" class=\"dataframe\">\n",
       "  <thead>\n",
       "    <tr style=\"text-align: right;\">\n",
       "      <th></th>\n",
       "      <th>count</th>\n",
       "      <th>mean</th>\n",
       "      <th>std</th>\n",
       "      <th>min</th>\n",
       "      <th>25%</th>\n",
       "      <th>50%</th>\n",
       "      <th>75%</th>\n",
       "      <th>max</th>\n",
       "    </tr>\n",
       "    <tr>\n",
       "      <th>certification</th>\n",
       "      <th></th>\n",
       "      <th></th>\n",
       "      <th></th>\n",
       "      <th></th>\n",
       "      <th></th>\n",
       "      <th></th>\n",
       "      <th></th>\n",
       "      <th></th>\n",
       "    </tr>\n",
       "  </thead>\n",
       "  <tbody>\n",
       "    <tr>\n",
       "      <th>G</th>\n",
       "      <td>50.0</td>\n",
       "      <td>8.023235e+07</td>\n",
       "      <td>1.803292e+08</td>\n",
       "      <td>0.0</td>\n",
       "      <td>817952.75</td>\n",
       "      <td>17264513.0</td>\n",
       "      <td>58119186.0</td>\n",
       "      <td>1.073395e+09</td>\n",
       "    </tr>\n",
       "    <tr>\n",
       "      <th>NR</th>\n",
       "      <td>104.0</td>\n",
       "      <td>2.230347e+07</td>\n",
       "      <td>4.627479e+07</td>\n",
       "      <td>0.0</td>\n",
       "      <td>45836.75</td>\n",
       "      <td>817866.0</td>\n",
       "      <td>18425000.0</td>\n",
       "      <td>2.759473e+08</td>\n",
       "    </tr>\n",
       "    <tr>\n",
       "      <th>PG</th>\n",
       "      <td>219.0</td>\n",
       "      <td>1.781512e+08</td>\n",
       "      <td>2.877404e+08</td>\n",
       "      <td>0.0</td>\n",
       "      <td>8671173.00</td>\n",
       "      <td>57814445.0</td>\n",
       "      <td>212530068.5</td>\n",
       "      <td>1.663075e+09</td>\n",
       "    </tr>\n",
       "    <tr>\n",
       "      <th>PG-13</th>\n",
       "      <td>570.0</td>\n",
       "      <td>1.526481e+08</td>\n",
       "      <td>2.934623e+08</td>\n",
       "      <td>0.0</td>\n",
       "      <td>8104821.25</td>\n",
       "      <td>41356507.5</td>\n",
       "      <td>152087059.0</td>\n",
       "      <td>2.799439e+09</td>\n",
       "    </tr>\n",
       "    <tr>\n",
       "      <th>R</th>\n",
       "      <td>820.0</td>\n",
       "      <td>4.691303e+07</td>\n",
       "      <td>1.045506e+08</td>\n",
       "      <td>0.0</td>\n",
       "      <td>853344.00</td>\n",
       "      <td>7962804.5</td>\n",
       "      <td>42841102.5</td>\n",
       "      <td>1.074458e+09</td>\n",
       "    </tr>\n",
       "  </tbody>\n",
       "</table>\n",
       "</div>"
      ],
      "text/plain": [
       "               count          mean           std  min         25%         50%  \\\n",
       "certification                                                                   \n",
       "G               50.0  8.023235e+07  1.803292e+08  0.0   817952.75  17264513.0   \n",
       "NR             104.0  2.230347e+07  4.627479e+07  0.0    45836.75    817866.0   \n",
       "PG             219.0  1.781512e+08  2.877404e+08  0.0  8671173.00  57814445.0   \n",
       "PG-13          570.0  1.526481e+08  2.934623e+08  0.0  8104821.25  41356507.5   \n",
       "R              820.0  4.691303e+07  1.045506e+08  0.0   853344.00   7962804.5   \n",
       "\n",
       "                       75%           max  \n",
       "certification                             \n",
       "G               58119186.0  1.073395e+09  \n",
       "NR              18425000.0  2.759473e+08  \n",
       "PG             212530068.5  1.663075e+09  \n",
       "PG-13          152087059.0  2.799439e+09  \n",
       "R               42841102.5  1.074458e+09  "
      ]
     },
     "execution_count": 17,
     "metadata": {},
     "output_type": "execute_result"
    }
   ],
   "source": [
    "df.groupby('certification')['revenue'].describe(include='all')"
   ]
  },
  {
   "cell_type": "code",
   "execution_count": 18,
   "id": "40099e76",
   "metadata": {},
   "outputs": [
    {
     "name": "stdout",
     "output_type": "stream",
     "text": [
      "The MEDIAN revenue for PG certification is revenue    57814445.0\n",
      "dtype: float64.\n",
      "The MEDIAN revenue for R certification is revenue    7962804.5\n",
      "dtype: float64.\n",
      "The MEDIAN revenue for G certification is revenue    17264513.0\n",
      "dtype: float64.\n",
      "The MEDIAN revenue for NR certification is revenue    817866.0\n",
      "dtype: float64.\n",
      "The MEDIAN revenue for PG-13 certification is revenue    41356507.5\n",
      "dtype: float64.\n"
     ]
    },
    {
     "name": "stderr",
     "output_type": "stream",
     "text": [
      "C:\\Users\\jonme\\AppData\\Local\\Temp\\ipykernel_27604\\2416348580.py:2: FutureWarning: The default value of numeric_only in DataFrame.median is deprecated. In a future version, it will default to False. In addition, specifying 'numeric_only=None' is deprecated. Select only valid columns or specify the value of numeric_only to silence this warning.\n",
      "  print(f'The MEDIAN revenue for {key} certification is {df.loc[(df[\"certification\"]==key)].median()}.')\n"
     ]
    }
   ],
   "source": [
    "for key in groups.keys():\n",
    "    print(f'The MEDIAN revenue for {key} certification is {df.loc[(df[\"certification\"]==key)].median()}.')"
   ]
  },
  {
   "cell_type": "markdown",
   "id": "25ad8032",
   "metadata": {},
   "source": [
    "### Highest Median Revenue\n",
    "- [x] Evaluation: Why do we care if the median is different than me mean?\n",
    " - When your distribution is skewed enough, the mean is strongly affected by changes far out in the distribution’s tail whereas the median continues to more closely reflect the center of the distribution. For these two distributions, a random sample of 100 from each distribution produces means that are significantly different, but medians that are not significantly different.\n",
    "---\n",
    "- The PG-rating has the highest median revenue.  \n",
    "- Followed by PG-13"
   ]
  },
  {
   "cell_type": "markdown",
   "id": "84345b84",
   "metadata": {},
   "source": [
    "# Q2. Median Budget vs Revenue\n",
    "## Does spending more than the median budget generate higher revenue?\n",
    "For this test I will call a movie **expensive** if it has a budget greater than or equal to the mean budget.\n",
    "\n",
    "For $\\alpha=0.05$:\n",
    "\n",
    " $H_0$(Null Hypothesis) There is no statistical difference in the budget and `revenue`.  $p<\\alpha$\n",
    " \n",
    " $H_A$(Alternative Hypothesis) There is a significant difference between the `budget` and `revenue`.  $p>\\alpha$\n",
    " \n",
    "## Define test\n",
    "- Type of Data - Revenue - numeric\n",
    "- How many groups - 2 (above/below median budget)\n",
    "- Which test is appropriate? ANOVA, Tukey, Kruskal-Wallis?\n",
    "\n",
    "## Assumptions\n",
    "1. No Significant Outliers\n",
    "2. Equal Variance\n",
    "3. Normality"
   ]
  },
  {
   "cell_type": "markdown",
   "id": "a58ed2e4",
   "metadata": {},
   "source": [
    "## Load/Clean/Group data\n",
    "- [x] Load `budget` and `revenue`\n",
    "- [x] Remove duplicates\n",
    "- [x] Drop NaN and 0-values\n",
    "- [x] Calculate `mean` budget and divide into 2 groups `gt:\"greater than\"`, `lt:\"less than\"`\n"
   ]
  },
  {
   "cell_type": "code",
   "execution_count": 19,
   "id": "8359735e",
   "metadata": {
    "scrolled": false
   },
   "outputs": [
    {
     "data": {
      "text/html": [
       "<div>\n",
       "<style scoped>\n",
       "    .dataframe tbody tr th:only-of-type {\n",
       "        vertical-align: middle;\n",
       "    }\n",
       "\n",
       "    .dataframe tbody tr th {\n",
       "        vertical-align: top;\n",
       "    }\n",
       "\n",
       "    .dataframe thead th {\n",
       "        text-align: right;\n",
       "    }\n",
       "</style>\n",
       "<table border=\"1\" class=\"dataframe\">\n",
       "  <thead>\n",
       "    <tr style=\"text-align: right;\">\n",
       "      <th></th>\n",
       "      <th>budget</th>\n",
       "      <th>revenue</th>\n",
       "    </tr>\n",
       "  </thead>\n",
       "  <tbody>\n",
       "    <tr>\n",
       "      <th>0</th>\n",
       "      <td>NaN</td>\n",
       "      <td>NaN</td>\n",
       "    </tr>\n",
       "    <tr>\n",
       "      <th>1</th>\n",
       "      <td>10000000.0</td>\n",
       "      <td>0.0</td>\n",
       "    </tr>\n",
       "    <tr>\n",
       "      <th>2</th>\n",
       "      <td>0.0</td>\n",
       "      <td>0.0</td>\n",
       "    </tr>\n",
       "    <tr>\n",
       "      <th>3</th>\n",
       "      <td>0.0</td>\n",
       "      <td>0.0</td>\n",
       "    </tr>\n",
       "    <tr>\n",
       "      <th>4</th>\n",
       "      <td>150000.0</td>\n",
       "      <td>12854953.0</td>\n",
       "    </tr>\n",
       "  </tbody>\n",
       "</table>\n",
       "</div>"
      ],
      "text/plain": [
       "       budget     revenue\n",
       "0         NaN         NaN\n",
       "1  10000000.0         0.0\n",
       "2         0.0         0.0\n",
       "3         0.0         0.0\n",
       "4    150000.0  12854953.0"
      ]
     },
     "execution_count": 19,
     "metadata": {},
     "output_type": "execute_result"
    }
   ],
   "source": [
    "df = tmdb[[\"budget\", \"revenue\"]]\n",
    "df.head()"
   ]
  },
  {
   "cell_type": "code",
   "execution_count": 20,
   "id": "3e5a213b",
   "metadata": {},
   "outputs": [
    {
     "data": {
      "text/plain": [
       "24378"
      ]
     },
     "execution_count": 20,
     "metadata": {},
     "output_type": "execute_result"
    }
   ],
   "source": [
    "df.duplicated().sum()"
   ]
  },
  {
   "cell_type": "code",
   "execution_count": 21,
   "id": "e52bf5c7",
   "metadata": {
    "scrolled": true
   },
   "outputs": [
    {
     "data": {
      "text/plain": [
       "0"
      ]
     },
     "execution_count": 21,
     "metadata": {},
     "output_type": "execute_result"
    }
   ],
   "source": [
    "#drop duplicated entries\n",
    "df = df.drop_duplicates()\n",
    "df.duplicated().sum()"
   ]
  },
  {
   "cell_type": "code",
   "execution_count": 22,
   "id": "238e353e",
   "metadata": {},
   "outputs": [
    {
     "data": {
      "text/plain": [
       "budget     1\n",
       "revenue    1\n",
       "dtype: int64"
      ]
     },
     "execution_count": 22,
     "metadata": {},
     "output_type": "execute_result"
    }
   ],
   "source": [
    "#Check for NaN values\n",
    "df.isna().sum()"
   ]
  },
  {
   "cell_type": "code",
   "execution_count": 23,
   "id": "c3838b5e",
   "metadata": {},
   "outputs": [
    {
     "data": {
      "text/plain": [
       "budget     0\n",
       "revenue    0\n",
       "dtype: int64"
      ]
     },
     "execution_count": 23,
     "metadata": {},
     "output_type": "execute_result"
    }
   ],
   "source": [
    "#Drop NaN values\n",
    "df.dropna(inplace=True)\n",
    "df.isna().sum()"
   ]
  },
  {
   "cell_type": "code",
   "execution_count": 24,
   "id": "0d87411a",
   "metadata": {},
   "outputs": [
    {
     "data": {
      "text/html": [
       "<div>\n",
       "<style scoped>\n",
       "    .dataframe tbody tr th:only-of-type {\n",
       "        vertical-align: middle;\n",
       "    }\n",
       "\n",
       "    .dataframe tbody tr th {\n",
       "        vertical-align: top;\n",
       "    }\n",
       "\n",
       "    .dataframe thead th {\n",
       "        text-align: right;\n",
       "    }\n",
       "</style>\n",
       "<table border=\"1\" class=\"dataframe\">\n",
       "  <thead>\n",
       "    <tr style=\"text-align: right;\">\n",
       "      <th></th>\n",
       "      <th>budget</th>\n",
       "      <th>revenue</th>\n",
       "    </tr>\n",
       "  </thead>\n",
       "  <tbody>\n",
       "    <tr>\n",
       "      <th>count</th>\n",
       "      <td>1.782000e+03</td>\n",
       "      <td>1.782000e+03</td>\n",
       "    </tr>\n",
       "    <tr>\n",
       "      <th>mean</th>\n",
       "      <td>3.242877e+07</td>\n",
       "      <td>1.012663e+08</td>\n",
       "    </tr>\n",
       "    <tr>\n",
       "      <th>std</th>\n",
       "      <td>4.613302e+07</td>\n",
       "      <td>2.194082e+08</td>\n",
       "    </tr>\n",
       "    <tr>\n",
       "      <th>min</th>\n",
       "      <td>1.000000e+00</td>\n",
       "      <td>1.000000e+00</td>\n",
       "    </tr>\n",
       "    <tr>\n",
       "      <th>25%</th>\n",
       "      <td>5.000000e+06</td>\n",
       "      <td>3.513177e+06</td>\n",
       "    </tr>\n",
       "    <tr>\n",
       "      <th>50%</th>\n",
       "      <td>1.500000e+07</td>\n",
       "      <td>2.333562e+07</td>\n",
       "    </tr>\n",
       "    <tr>\n",
       "      <th>75%</th>\n",
       "      <td>3.875000e+07</td>\n",
       "      <td>9.170946e+07</td>\n",
       "    </tr>\n",
       "    <tr>\n",
       "      <th>max</th>\n",
       "      <td>3.650000e+08</td>\n",
       "      <td>2.799439e+09</td>\n",
       "    </tr>\n",
       "  </tbody>\n",
       "</table>\n",
       "</div>"
      ],
      "text/plain": [
       "             budget       revenue\n",
       "count  1.782000e+03  1.782000e+03\n",
       "mean   3.242877e+07  1.012663e+08\n",
       "std    4.613302e+07  2.194082e+08\n",
       "min    1.000000e+00  1.000000e+00\n",
       "25%    5.000000e+06  3.513177e+06\n",
       "50%    1.500000e+07  2.333562e+07\n",
       "75%    3.875000e+07  9.170946e+07\n",
       "max    3.650000e+08  2.799439e+09"
      ]
     },
     "execution_count": 24,
     "metadata": {},
     "output_type": "execute_result"
    }
   ],
   "source": [
    "#Drop budget=0 OR revenue = 0\n",
    "df = df[(df[\"budget\"]!=0)&(df[\"revenue\"]!=0)]\n",
    "df.describe()"
   ]
  },
  {
   "cell_type": "code",
   "execution_count": 25,
   "id": "c9624faa",
   "metadata": {},
   "outputs": [
    {
     "data": {
      "text/html": [
       "<div>\n",
       "<style scoped>\n",
       "    .dataframe tbody tr th:only-of-type {\n",
       "        vertical-align: middle;\n",
       "    }\n",
       "\n",
       "    .dataframe tbody tr th {\n",
       "        vertical-align: top;\n",
       "    }\n",
       "\n",
       "    .dataframe thead th {\n",
       "        text-align: right;\n",
       "    }\n",
       "</style>\n",
       "<table border=\"1\" class=\"dataframe\">\n",
       "  <thead>\n",
       "    <tr style=\"text-align: right;\">\n",
       "      <th></th>\n",
       "      <th>budget</th>\n",
       "      <th>revenue</th>\n",
       "      <th>expensive</th>\n",
       "    </tr>\n",
       "  </thead>\n",
       "  <tbody>\n",
       "    <tr>\n",
       "      <th>4</th>\n",
       "      <td>150000.0</td>\n",
       "      <td>12854953.0</td>\n",
       "      <td>False</td>\n",
       "    </tr>\n",
       "    <tr>\n",
       "      <th>11</th>\n",
       "      <td>120000.0</td>\n",
       "      <td>14904.0</td>\n",
       "      <td>False</td>\n",
       "    </tr>\n",
       "    <tr>\n",
       "      <th>13</th>\n",
       "      <td>45000000.0</td>\n",
       "      <td>224834564.0</td>\n",
       "      <td>True</td>\n",
       "    </tr>\n",
       "    <tr>\n",
       "      <th>16</th>\n",
       "      <td>8000000.0</td>\n",
       "      <td>105983.0</td>\n",
       "      <td>False</td>\n",
       "    </tr>\n",
       "    <tr>\n",
       "      <th>17</th>\n",
       "      <td>125000000.0</td>\n",
       "      <td>546388105.0</td>\n",
       "      <td>True</td>\n",
       "    </tr>\n",
       "  </tbody>\n",
       "</table>\n",
       "</div>"
      ],
      "text/plain": [
       "         budget      revenue  expensive\n",
       "4      150000.0   12854953.0      False\n",
       "11     120000.0      14904.0      False\n",
       "13   45000000.0  224834564.0       True\n",
       "16    8000000.0     105983.0      False\n",
       "17  125000000.0  546388105.0       True"
      ]
     },
     "execution_count": 25,
     "metadata": {},
     "output_type": "execute_result"
    }
   ],
   "source": [
    "#add a column to the dataframe to show if a movie is greater than the median movie budget\n",
    "df['expensive'] = df[[\"budget\"]]>=np.mean(df[\"budget\"])\n",
    "df.head()"
   ]
  },
  {
   "cell_type": "code",
   "execution_count": 26,
   "id": "1ccfb4db",
   "metadata": {},
   "outputs": [
    {
     "data": {
      "text/html": [
       "<div>\n",
       "<style scoped>\n",
       "    .dataframe tbody tr th:only-of-type {\n",
       "        vertical-align: middle;\n",
       "    }\n",
       "\n",
       "    .dataframe tbody tr th {\n",
       "        vertical-align: top;\n",
       "    }\n",
       "\n",
       "    .dataframe thead th {\n",
       "        text-align: right;\n",
       "    }\n",
       "</style>\n",
       "<table border=\"1\" class=\"dataframe\">\n",
       "  <thead>\n",
       "    <tr style=\"text-align: right;\">\n",
       "      <th></th>\n",
       "      <th>budget</th>\n",
       "      <th>revenue</th>\n",
       "    </tr>\n",
       "  </thead>\n",
       "  <tbody>\n",
       "    <tr>\n",
       "      <th>count</th>\n",
       "      <td>5.210000e+02</td>\n",
       "      <td>5.210000e+02</td>\n",
       "    </tr>\n",
       "    <tr>\n",
       "      <th>mean</th>\n",
       "      <td>8.582581e+07</td>\n",
       "      <td>2.720063e+08</td>\n",
       "    </tr>\n",
       "    <tr>\n",
       "      <th>std</th>\n",
       "      <td>5.529190e+07</td>\n",
       "      <td>3.387184e+08</td>\n",
       "    </tr>\n",
       "    <tr>\n",
       "      <th>min</th>\n",
       "      <td>3.267973e+07</td>\n",
       "      <td>1.074230e+05</td>\n",
       "    </tr>\n",
       "    <tr>\n",
       "      <th>25%</th>\n",
       "      <td>4.300000e+07</td>\n",
       "      <td>6.211290e+07</td>\n",
       "    </tr>\n",
       "    <tr>\n",
       "      <th>50%</th>\n",
       "      <td>6.500000e+07</td>\n",
       "      <td>1.486751e+08</td>\n",
       "    </tr>\n",
       "    <tr>\n",
       "      <th>75%</th>\n",
       "      <td>1.100000e+08</td>\n",
       "      <td>3.488071e+08</td>\n",
       "    </tr>\n",
       "    <tr>\n",
       "      <th>max</th>\n",
       "      <td>3.650000e+08</td>\n",
       "      <td>2.799439e+09</td>\n",
       "    </tr>\n",
       "  </tbody>\n",
       "</table>\n",
       "</div>"
      ],
      "text/plain": [
       "             budget       revenue\n",
       "count  5.210000e+02  5.210000e+02\n",
       "mean   8.582581e+07  2.720063e+08\n",
       "std    5.529190e+07  3.387184e+08\n",
       "min    3.267973e+07  1.074230e+05\n",
       "25%    4.300000e+07  6.211290e+07\n",
       "50%    6.500000e+07  1.486751e+08\n",
       "75%    1.100000e+08  3.488071e+08\n",
       "max    3.650000e+08  2.799439e+09"
      ]
     },
     "execution_count": 26,
     "metadata": {},
     "output_type": "execute_result"
    }
   ],
   "source": [
    "gt = df[['budget','revenue']][df[\"expensive\"]==True]\n",
    "gt.describe()"
   ]
  },
  {
   "cell_type": "code",
   "execution_count": 27,
   "id": "77b27f4a",
   "metadata": {
    "scrolled": true
   },
   "outputs": [
    {
     "data": {
      "text/html": [
       "<div>\n",
       "<style scoped>\n",
       "    .dataframe tbody tr th:only-of-type {\n",
       "        vertical-align: middle;\n",
       "    }\n",
       "\n",
       "    .dataframe tbody tr th {\n",
       "        vertical-align: top;\n",
       "    }\n",
       "\n",
       "    .dataframe thead th {\n",
       "        text-align: right;\n",
       "    }\n",
       "</style>\n",
       "<table border=\"1\" class=\"dataframe\">\n",
       "  <thead>\n",
       "    <tr style=\"text-align: right;\">\n",
       "      <th></th>\n",
       "      <th>budget</th>\n",
       "      <th>revenue</th>\n",
       "    </tr>\n",
       "  </thead>\n",
       "  <tbody>\n",
       "    <tr>\n",
       "      <th>count</th>\n",
       "      <td>1.261000e+03</td>\n",
       "      <td>1.261000e+03</td>\n",
       "    </tr>\n",
       "    <tr>\n",
       "      <th>mean</th>\n",
       "      <td>1.036703e+07</td>\n",
       "      <td>3.072257e+07</td>\n",
       "    </tr>\n",
       "    <tr>\n",
       "      <th>std</th>\n",
       "      <td>8.972146e+06</td>\n",
       "      <td>6.051407e+07</td>\n",
       "    </tr>\n",
       "    <tr>\n",
       "      <th>min</th>\n",
       "      <td>1.000000e+00</td>\n",
       "      <td>1.000000e+00</td>\n",
       "    </tr>\n",
       "    <tr>\n",
       "      <th>25%</th>\n",
       "      <td>3.000000e+06</td>\n",
       "      <td>1.528185e+06</td>\n",
       "    </tr>\n",
       "    <tr>\n",
       "      <th>50%</th>\n",
       "      <td>8.000000e+06</td>\n",
       "      <td>9.496130e+06</td>\n",
       "    </tr>\n",
       "    <tr>\n",
       "      <th>75%</th>\n",
       "      <td>1.600000e+07</td>\n",
       "      <td>3.450000e+07</td>\n",
       "    </tr>\n",
       "    <tr>\n",
       "      <th>max</th>\n",
       "      <td>3.240000e+07</td>\n",
       "      <td>8.703227e+08</td>\n",
       "    </tr>\n",
       "  </tbody>\n",
       "</table>\n",
       "</div>"
      ],
      "text/plain": [
       "             budget       revenue\n",
       "count  1.261000e+03  1.261000e+03\n",
       "mean   1.036703e+07  3.072257e+07\n",
       "std    8.972146e+06  6.051407e+07\n",
       "min    1.000000e+00  1.000000e+00\n",
       "25%    3.000000e+06  1.528185e+06\n",
       "50%    8.000000e+06  9.496130e+06\n",
       "75%    1.600000e+07  3.450000e+07\n",
       "max    3.240000e+07  8.703227e+08"
      ]
     },
     "execution_count": 27,
     "metadata": {},
     "output_type": "execute_result"
    }
   ],
   "source": [
    "lt = df[['budget','revenue']][df[\"expensive\"]==False]\n",
    "lt.describe()"
   ]
  },
  {
   "cell_type": "markdown",
   "id": "87a2227a",
   "metadata": {
    "heading_collapsed": true
   },
   "source": [
    "## Visualize data"
   ]
  },
  {
   "cell_type": "code",
   "execution_count": 28,
   "id": "cd1e8cb7",
   "metadata": {
    "hidden": true
   },
   "outputs": [
    {
     "data": {
      "image/png": "[encoded data removed]",
      "text/plain": [
       "<Figure size 500x500 with 1 Axes>"
      ]
     },
     "metadata": {},
     "output_type": "display_data"
    }
   ],
   "source": [
    "fig, ax = plt.subplots(figsize = (5,5))\n",
    "sns.barplot(data = df, x=\"expensive\", y=\"revenue\");"
   ]
  },
  {
   "cell_type": "markdown",
   "id": "269a4d8b",
   "metadata": {},
   "source": [
    "## Test Assumption of no significant outliers\n",
    "Look for outliers with standard deviation from the mean >3 via `stats.zscore`.  Remove these outliers to satisfy assumption."
   ]
  },
  {
   "cell_type": "code",
   "execution_count": 29,
   "id": "c5f9a90b",
   "metadata": {
    "scrolled": false
   },
   "outputs": [
    {
     "data": {
      "text/plain": [
       "budget      5\n",
       "revenue    11\n",
       "dtype: int64"
      ]
     },
     "execution_count": 29,
     "metadata": {},
     "output_type": "execute_result"
    }
   ],
   "source": [
    "zscores = stats.zscore(gt)\n",
    "outliers = abs(zscores)>3\n",
    "np.sum(outliers)"
   ]
  },
  {
   "cell_type": "code",
   "execution_count": 30,
   "id": "ce339c59",
   "metadata": {},
   "outputs": [],
   "source": [
    "#remove outliers\n",
    "gt = gt[(np.abs(stats.zscore(gt)) < 3)]\n",
    "gt.dropna(axis=0, inplace=True)"
   ]
  },
  {
   "cell_type": "code",
   "execution_count": 31,
   "id": "343fa00b",
   "metadata": {
    "scrolled": false
   },
   "outputs": [
    {
     "data": {
      "text/plain": [
       "budget      0\n",
       "revenue    26\n",
       "dtype: int64"
      ]
     },
     "execution_count": 31,
     "metadata": {},
     "output_type": "execute_result"
    }
   ],
   "source": [
    "zscores = stats.zscore(lt)\n",
    "outliers = abs(zscores)>3\n",
    "np.sum(outliers)"
   ]
  },
  {
   "cell_type": "code",
   "execution_count": 32,
   "id": "ed7b4d39",
   "metadata": {},
   "outputs": [],
   "source": [
    "#remove outliers\n",
    "lt = lt[(np.abs(stats.zscore(lt)) < 3)]\n",
    "lt.dropna(axis=0, inplace=True)"
   ]
  },
  {
   "cell_type": "markdown",
   "id": "0b1badb6",
   "metadata": {},
   "source": [
    "## Test Assumption of Normality\n",
    "**Use:**  `scipy.stats.normaltest`. From the docs: \n",
    "\"This function tests the null hypothesis that a sample comes from a normal distribution.\"\n",
    "\n",
    "A p-value less than 0.05 says our distribution is significantly different than a normal distribution."
   ]
  },
  {
   "cell_type": "code",
   "execution_count": 33,
   "id": "64113d8b",
   "metadata": {},
   "outputs": [
    {
     "data": {
      "text/html": [
       "<div>\n",
       "<style scoped>\n",
       "    .dataframe tbody tr th:only-of-type {\n",
       "        vertical-align: middle;\n",
       "    }\n",
       "\n",
       "    .dataframe tbody tr th {\n",
       "        vertical-align: top;\n",
       "    }\n",
       "\n",
       "    .dataframe thead th {\n",
       "        text-align: right;\n",
       "    }\n",
       "</style>\n",
       "<table border=\"1\" class=\"dataframe\">\n",
       "  <thead>\n",
       "    <tr style=\"text-align: right;\">\n",
       "      <th></th>\n",
       "      <th>budget</th>\n",
       "      <th>revenue</th>\n",
       "    </tr>\n",
       "  </thead>\n",
       "  <tbody>\n",
       "    <tr>\n",
       "      <th>13</th>\n",
       "      <td>45000000.0</td>\n",
       "      <td>224834564.0</td>\n",
       "    </tr>\n",
       "    <tr>\n",
       "      <th>17</th>\n",
       "      <td>125000000.0</td>\n",
       "      <td>546388105.0</td>\n",
       "    </tr>\n",
       "    <tr>\n",
       "      <th>18</th>\n",
       "      <td>75000000.0</td>\n",
       "      <td>296339527.0</td>\n",
       "    </tr>\n",
       "    <tr>\n",
       "      <th>19</th>\n",
       "      <td>75000000.0</td>\n",
       "      <td>36754634.0</td>\n",
       "    </tr>\n",
       "    <tr>\n",
       "      <th>20</th>\n",
       "      <td>100000000.0</td>\n",
       "      <td>169327687.0</td>\n",
       "    </tr>\n",
       "  </tbody>\n",
       "</table>\n",
       "</div>"
      ],
      "text/plain": [
       "         budget      revenue\n",
       "13   45000000.0  224834564.0\n",
       "17  125000000.0  546388105.0\n",
       "18   75000000.0  296339527.0\n",
       "19   75000000.0   36754634.0\n",
       "20  100000000.0  169327687.0"
      ]
     },
     "execution_count": 33,
     "metadata": {},
     "output_type": "execute_result"
    }
   ],
   "source": [
    "gt.head()"
   ]
  },
  {
   "cell_type": "code",
   "execution_count": 34,
   "id": "7b5cbd8b",
   "metadata": {
    "scrolled": true
   },
   "outputs": [
    {
     "data": {
      "text/plain": [
       "count    5.090000e+02\n",
       "mean     2.405605e+08\n",
       "std      2.616144e+08\n",
       "min      1.074230e+05\n",
       "25%      6.084571e+07\n",
       "50%      1.466620e+08\n",
       "75%      3.304440e+08\n",
       "max      1.263521e+09\n",
       "Name: revenue, dtype: float64"
      ]
     },
     "execution_count": 34,
     "metadata": {},
     "output_type": "execute_result"
    }
   ],
   "source": [
    "gt['revenue'].describe()"
   ]
  },
  {
   "cell_type": "code",
   "execution_count": 35,
   "id": "bcc76121",
   "metadata": {},
   "outputs": [
    {
     "data": {
      "text/plain": [
       "1.0695616607925182e-39"
      ]
     },
     "execution_count": 35,
     "metadata": {},
     "output_type": "execute_result"
    }
   ],
   "source": [
    "#Is the revenue for the gt set normally distributed?\n",
    "results = stats.normaltest(gt['revenue'],nan_policy=\"omit\")\n",
    "results.pvalue"
   ]
  },
  {
   "cell_type": "code",
   "execution_count": 36,
   "id": "81b1c1c0",
   "metadata": {},
   "outputs": [
    {
     "data": {
      "text/plain": [
       "count    1.235000e+03\n",
       "mean     2.435059e+07\n",
       "std      3.586290e+07\n",
       "min      1.000000e+00\n",
       "25%      1.491048e+06\n",
       "50%      8.996802e+06\n",
       "75%      3.184494e+07\n",
       "max      2.099470e+08\n",
       "Name: revenue, dtype: float64"
      ]
     },
     "execution_count": 36,
     "metadata": {},
     "output_type": "execute_result"
    }
   ],
   "source": [
    "\n",
    "lt['revenue'].describe()"
   ]
  },
  {
   "cell_type": "code",
   "execution_count": 37,
   "id": "635e42f1",
   "metadata": {},
   "outputs": [
    {
     "data": {
      "text/plain": [
       "1.2478808819338724e-128"
      ]
     },
     "execution_count": 37,
     "metadata": {},
     "output_type": "execute_result"
    }
   ],
   "source": [
    "#Is the revenue for the lt set normally distributed?\n",
    "results = stats.normaltest(lt['revenue'],nan_policy=\"omit\")\n",
    "results.pvalue"
   ]
  },
  {
   "cell_type": "markdown",
   "id": "1bac077e",
   "metadata": {},
   "source": [
    "> In each case the  $p<\\alpha$ indicates that both the set of budgets greater than the mean and less than the mean are not normally distributed.  However, because the number of entries is sufficiently large we can assume normality."
   ]
  },
  {
   "cell_type": "markdown",
   "id": "44a3b32f",
   "metadata": {},
   "source": [
    "## Test Assumption of Equal Variance\n",
    "Use Levene test for equal variance. Recall, the Levene test tests the null hypothesis that all input samples are from populations with equal variances. "
   ]
  },
  {
   "cell_type": "code",
   "execution_count": 38,
   "id": "28fac253",
   "metadata": {},
   "outputs": [
    {
     "data": {
      "text/plain": [
       "LeveneResult(statistic=590.1642985886849, pvalue=1.6358394812060266e-112)"
      ]
     },
     "execution_count": 38,
     "metadata": {},
     "output_type": "execute_result"
    }
   ],
   "source": [
    "# Use Levene test to check for equal variance\n",
    "result = stats.levene(gt['revenue'], lt['revenue'])\n",
    "result"
   ]
  },
  {
   "cell_type": "markdown",
   "id": "3c9eb888",
   "metadata": {},
   "source": [
    "Our results show that $p<\\alpha$ and that we must reject the null hypothesis that our gt-/lt- groups have equal variance. "
   ]
  },
  {
   "cell_type": "markdown",
   "id": "831a805d",
   "metadata": {},
   "source": [
    "## Test Q2 hypothesis\n",
    "For $\\alpha=0.5$\n",
    "\n",
    "\n",
    "$𝐻_0$ (Null Hypothesis) There is no statistical difference in the budget and revenue. $p<\\alpha$\n",
    "\n",
    "$𝐻_𝐴$ (Alternative Hypothesis) There is a significant difference between the budget and revenue. $p>\\alpha$\n",
    "\n",
    "\n",
    "Our assumptions are:\n",
    "1. No outliers - REJECT $H_1$.  All outlier removed satisfies this assumption\n",
    "2. Normality - REJECT $H_1$.  Sample size satisfies this assumption\n",
    "3. Equal Variance - REJECT $H_0$.\n",
    "\n",
    "Given the above assumptions, we will use a *T-test* to evaluate our hypothesis. "
   ]
  },
  {
   "cell_type": "code",
   "execution_count": 39,
   "id": "0fda3647",
   "metadata": {},
   "outputs": [
    {
     "data": {
      "text/plain": [
       "Ttest_indResult(statistic=18.57365951153556, pvalue=2.4033873662679043e-59)"
      ]
     },
     "execution_count": 39,
     "metadata": {},
     "output_type": "execute_result"
    }
   ],
   "source": [
    "# Independent t-test with equal_var set to False\n",
    "result = stats.ttest_ind(gt['revenue'], lt['revenue'], equal_var = False)\n",
    "result"
   ]
  },
  {
   "cell_type": "raw",
   "id": "39516fc1",
   "metadata": {},
   "source": [
    "Our $p<\\alpha$, so we reject the null hypothesis and accept that there is a significant difference between the budget and revenue generated.  As the old addage goes: \"You have to spend money to make money\"!"
   ]
  },
  {
   "cell_type": "markdown",
   "id": "48e91246",
   "metadata": {},
   "source": [
    "# Q3. Movie Length vs. Revenue\n",
    "## Do movies that are over 2.5 hours long earn more revenue than movies that are 1.5 hours long (or less)?\n",
    "\n",
    "For $\\alpha=0.05$:\n",
    "\n",
    " $H_0$(Null Hypothesis) There is no statistical difference in the `revenue` of movies longer than 2.5 hrs and 1.5hrs.  $p<\\alpha$\n",
    " \n",
    " $H_A$(Alternative Hypothesis) There is a significant statistical difference in the `revenue` of movies longer than 2.5 hrs and 1.5hrs.  $p>\\alpha$\n",
    " \n",
    "## Define test\n",
    "- Type of Data - Revenue - numeric\n",
    "- How many groups - 3 (Length > 2.5hr, < 1.5hr, 1.5-2.5hr )\n",
    "- Which test is appropriate? ANOVA, Kruskak-Wallis?\n",
    "\n",
    "## Assumptions\n",
    "1. No Significant Outliers\n",
    "2. Equal Variance\n",
    "3. Normality"
   ]
  },
  {
   "cell_type": "markdown",
   "id": "4d94e22e",
   "metadata": {},
   "source": [
    "## Load/Clean/Group Data"
   ]
  },
  {
   "cell_type": "code",
   "execution_count": 40,
   "id": "6ef4c909",
   "metadata": {},
   "outputs": [
    {
     "data": {
      "text/html": [
       "<div>\n",
       "<style scoped>\n",
       "    .dataframe tbody tr th:only-of-type {\n",
       "        vertical-align: middle;\n",
       "    }\n",
       "\n",
       "    .dataframe tbody tr th {\n",
       "        vertical-align: top;\n",
       "    }\n",
       "\n",
       "    .dataframe thead th {\n",
       "        text-align: right;\n",
       "    }\n",
       "</style>\n",
       "<table border=\"1\" class=\"dataframe\">\n",
       "  <thead>\n",
       "    <tr style=\"text-align: right;\">\n",
       "      <th></th>\n",
       "      <th>runtime</th>\n",
       "      <th>revenue</th>\n",
       "    </tr>\n",
       "  </thead>\n",
       "  <tbody>\n",
       "    <tr>\n",
       "      <th>0</th>\n",
       "      <td>NaN</td>\n",
       "      <td>NaN</td>\n",
       "    </tr>\n",
       "    <tr>\n",
       "      <th>1</th>\n",
       "      <td>86.0</td>\n",
       "      <td>0.0</td>\n",
       "    </tr>\n",
       "    <tr>\n",
       "      <th>2</th>\n",
       "      <td>100.0</td>\n",
       "      <td>0.0</td>\n",
       "    </tr>\n",
       "    <tr>\n",
       "      <th>3</th>\n",
       "      <td>152.0</td>\n",
       "      <td>0.0</td>\n",
       "    </tr>\n",
       "    <tr>\n",
       "      <th>4</th>\n",
       "      <td>99.0</td>\n",
       "      <td>12854953.0</td>\n",
       "    </tr>\n",
       "  </tbody>\n",
       "</table>\n",
       "</div>"
      ],
      "text/plain": [
       "   runtime     revenue\n",
       "0      NaN         NaN\n",
       "1     86.0         0.0\n",
       "2    100.0         0.0\n",
       "3    152.0         0.0\n",
       "4     99.0  12854953.0"
      ]
     },
     "execution_count": 40,
     "metadata": {},
     "output_type": "execute_result"
    }
   ],
   "source": [
    "#Slice data from TMDB data frame.\n",
    "df = tmdb[['runtime', 'revenue']]\n",
    "df.head()"
   ]
  },
  {
   "cell_type": "code",
   "execution_count": 41,
   "id": "886ec811",
   "metadata": {},
   "outputs": [
    {
     "data": {
      "text/plain": [
       "runtime    0\n",
       "revenue    0\n",
       "dtype: int64"
      ]
     },
     "execution_count": 41,
     "metadata": {},
     "output_type": "execute_result"
    }
   ],
   "source": [
    "#Drop NaN values\n",
    "df = df.dropna()\n",
    "df.isna().sum()"
   ]
  },
  {
   "cell_type": "code",
   "execution_count": 42,
   "id": "2e9e4590",
   "metadata": {
    "scrolled": true
   },
   "outputs": [
    {
     "data": {
      "text/html": [
       "<div>\n",
       "<style scoped>\n",
       "    .dataframe tbody tr th:only-of-type {\n",
       "        vertical-align: middle;\n",
       "    }\n",
       "\n",
       "    .dataframe tbody tr th {\n",
       "        vertical-align: top;\n",
       "    }\n",
       "\n",
       "    .dataframe thead th {\n",
       "        text-align: right;\n",
       "    }\n",
       "</style>\n",
       "<table border=\"1\" class=\"dataframe\">\n",
       "  <thead>\n",
       "    <tr style=\"text-align: right;\">\n",
       "      <th></th>\n",
       "      <th>runtime</th>\n",
       "      <th>revenue</th>\n",
       "    </tr>\n",
       "  </thead>\n",
       "  <tbody>\n",
       "    <tr>\n",
       "      <th>count</th>\n",
       "      <td>2985.000000</td>\n",
       "      <td>2.985000e+03</td>\n",
       "    </tr>\n",
       "    <tr>\n",
       "      <th>mean</th>\n",
       "      <td>107.797655</td>\n",
       "      <td>6.369271e+07</td>\n",
       "    </tr>\n",
       "    <tr>\n",
       "      <th>std</th>\n",
       "      <td>19.791302</td>\n",
       "      <td>1.767657e+08</td>\n",
       "    </tr>\n",
       "    <tr>\n",
       "      <th>min</th>\n",
       "      <td>51.000000</td>\n",
       "      <td>1.000000e+00</td>\n",
       "    </tr>\n",
       "    <tr>\n",
       "      <th>25%</th>\n",
       "      <td>94.000000</td>\n",
       "      <td>5.261140e+05</td>\n",
       "    </tr>\n",
       "    <tr>\n",
       "      <th>50%</th>\n",
       "      <td>104.000000</td>\n",
       "      <td>5.972942e+06</td>\n",
       "    </tr>\n",
       "    <tr>\n",
       "      <th>75%</th>\n",
       "      <td>119.000000</td>\n",
       "      <td>4.100000e+07</td>\n",
       "    </tr>\n",
       "    <tr>\n",
       "      <th>max</th>\n",
       "      <td>225.000000</td>\n",
       "      <td>2.799439e+09</td>\n",
       "    </tr>\n",
       "  </tbody>\n",
       "</table>\n",
       "</div>"
      ],
      "text/plain": [
       "           runtime       revenue\n",
       "count  2985.000000  2.985000e+03\n",
       "mean    107.797655  6.369271e+07\n",
       "std      19.791302  1.767657e+08\n",
       "min      51.000000  1.000000e+00\n",
       "25%      94.000000  5.261140e+05\n",
       "50%     104.000000  5.972942e+06\n",
       "75%     119.000000  4.100000e+07\n",
       "max     225.000000  2.799439e+09"
      ]
     },
     "execution_count": 42,
     "metadata": {},
     "output_type": "execute_result"
    }
   ],
   "source": [
    "#Drop runtime=0 OR revenue = 0\n",
    "df = df[(df[\"runtime\"]!=0)&(df[\"revenue\"]!=0)]\n",
    "df.describe()"
   ]
  },
  {
   "cell_type": "code",
   "execution_count": 43,
   "id": "e401bed9",
   "metadata": {},
   "outputs": [
    {
     "data": {
      "text/html": [
       "<div>\n",
       "<style scoped>\n",
       "    .dataframe tbody tr th:only-of-type {\n",
       "        vertical-align: middle;\n",
       "    }\n",
       "\n",
       "    .dataframe tbody tr th {\n",
       "        vertical-align: top;\n",
       "    }\n",
       "\n",
       "    .dataframe thead th {\n",
       "        text-align: right;\n",
       "    }\n",
       "</style>\n",
       "<table border=\"1\" class=\"dataframe\">\n",
       "  <thead>\n",
       "    <tr style=\"text-align: right;\">\n",
       "      <th></th>\n",
       "      <th>runtime</th>\n",
       "      <th>revenue</th>\n",
       "      <th>length</th>\n",
       "    </tr>\n",
       "  </thead>\n",
       "  <tbody>\n",
       "    <tr>\n",
       "      <th>4</th>\n",
       "      <td>99.0</td>\n",
       "      <td>12854953.0</td>\n",
       "      <td>avg</td>\n",
       "    </tr>\n",
       "    <tr>\n",
       "      <th>10</th>\n",
       "      <td>98.0</td>\n",
       "      <td>80334.0</td>\n",
       "      <td>avg</td>\n",
       "    </tr>\n",
       "    <tr>\n",
       "      <th>11</th>\n",
       "      <td>87.0</td>\n",
       "      <td>14904.0</td>\n",
       "      <td>short</td>\n",
       "    </tr>\n",
       "    <tr>\n",
       "      <th>13</th>\n",
       "      <td>84.0</td>\n",
       "      <td>224834564.0</td>\n",
       "      <td>short</td>\n",
       "    </tr>\n",
       "    <tr>\n",
       "      <th>16</th>\n",
       "      <td>122.0</td>\n",
       "      <td>105983.0</td>\n",
       "      <td>avg</td>\n",
       "    </tr>\n",
       "  </tbody>\n",
       "</table>\n",
       "</div>"
      ],
      "text/plain": [
       "    runtime      revenue length\n",
       "4      99.0   12854953.0    avg\n",
       "10     98.0      80334.0    avg\n",
       "11     87.0      14904.0  short\n",
       "13     84.0  224834564.0  short\n",
       "16    122.0     105983.0    avg"
      ]
     },
     "execution_count": 43,
     "metadata": {},
     "output_type": "execute_result"
    }
   ],
   "source": [
    "lengths = [df['runtime']<90, df['runtime']<150, df['runtime']>=150]\n",
    "length_desc=[\"short\",\"avg\",\"long\"]\n",
    "df['length']= np.select(lengths, length_desc)\n",
    "df.head()"
   ]
  },
  {
   "cell_type": "markdown",
   "id": "98a5ca6a",
   "metadata": {},
   "source": [
    "## Visualize Data"
   ]
  },
  {
   "cell_type": "code",
   "execution_count": 44,
   "id": "58022959",
   "metadata": {},
   "outputs": [
    {
     "data": {
      "text/plain": [
       "<AxesSubplot: xlabel='length', ylabel='revenue'>"
      ]
     },
     "execution_count": 44,
     "metadata": {},
     "output_type": "execute_result"
    },
    {
     "data": {
      "image/png": "[encoded data removed]",
      "text/plain": [
       "<Figure size 640x480 with 1 Axes>"
      ]
     },
     "metadata": {},
     "output_type": "display_data"
    }
   ],
   "source": [
    "sns.barplot(data=df, x=\"length\", y=\"revenue\" )"
   ]
  },
  {
   "cell_type": "markdown",
   "id": "ff81ad50",
   "metadata": {},
   "source": [
    "## Test Assumption of no significant outliers\n",
    "\n",
    "Use the stats.Zscores() to remove entries with standard deviations > 3 from the mean. By removing the outliers we satisfy the assumption of no significant outliers."
   ]
  },
  {
   "cell_type": "code",
   "execution_count": 45,
   "id": "d5a2515a",
   "metadata": {},
   "outputs": [
    {
     "data": {
      "text/plain": [
       "dict_keys(['avg', 'short', 'long'])"
      ]
     },
     "execution_count": 45,
     "metadata": {},
     "output_type": "execute_result"
    }
   ],
   "source": [
    "#Divide into groups to make it easier to work with in the future\n",
    "groups ={}\n",
    "for i in df['length'].unique():\n",
    "    ## Get series for group and rename\n",
    "    data = df.loc[df['length']==i,'revenue'].copy()\n",
    "    \n",
    "    # save into the dictionary\n",
    "    groups[i] = data\n",
    "groups.keys()"
   ]
  },
  {
   "cell_type": "code",
   "execution_count": 46,
   "id": "f60a67fd",
   "metadata": {},
   "outputs": [
    {
     "name": "stdout",
     "output_type": "stream",
     "text": [
      "For LENGTH = \"avg\", there are 57 outliers\n",
      "Outliers have been removed\n",
      "For LENGTH = \"short\", there are 6 outliers\n",
      "Outliers have been removed\n",
      "For LENGTH = \"long\", there are 2 outliers\n",
      "Outliers have been removed\n"
     ]
    }
   ],
   "source": [
    "for i, data in groups.items():\n",
    "    zscores = stats.zscore(data)\n",
    "    outliers = abs(zscores)>3\n",
    "    print(f'For LENGTH = \"{i}\", there are {np.sum(outliers)} outliers')\n",
    "    groups[i] = groups[i][(np.abs(stats.zscore(groups[i]))<3)]\n",
    "    print(f'Outliers have been removed')"
   ]
  },
  {
   "cell_type": "markdown",
   "id": "79330490",
   "metadata": {
    "heading_collapsed": true
   },
   "source": [
    "## Test Assumption of Normality\n",
    "Use: scipy.stats.normaltest. From the docs: \"This function tests the null hypothesis that a sample comes from a normal distribution.\"\n",
    "\n",
    "A p-value less than 0.05 says our distribution is significantly different than a normal distribution."
   ]
  },
  {
   "cell_type": "code",
   "execution_count": 47,
   "id": "352e4c55",
   "metadata": {
    "hidden": true
   },
   "outputs": [
    {
     "data": {
      "text/html": [
       "<div>\n",
       "<style scoped>\n",
       "    .dataframe tbody tr th:only-of-type {\n",
       "        vertical-align: middle;\n",
       "    }\n",
       "\n",
       "    .dataframe tbody tr th {\n",
       "        vertical-align: top;\n",
       "    }\n",
       "\n",
       "    .dataframe thead th {\n",
       "        text-align: right;\n",
       "    }\n",
       "</style>\n",
       "<table border=\"1\" class=\"dataframe\">\n",
       "  <thead>\n",
       "    <tr style=\"text-align: right;\">\n",
       "      <th></th>\n",
       "      <th>runtime</th>\n",
       "      <th>revenue</th>\n",
       "      <th>length</th>\n",
       "    </tr>\n",
       "  </thead>\n",
       "  <tbody>\n",
       "    <tr>\n",
       "      <th>4</th>\n",
       "      <td>99.0</td>\n",
       "      <td>12854953.0</td>\n",
       "      <td>avg</td>\n",
       "    </tr>\n",
       "    <tr>\n",
       "      <th>10</th>\n",
       "      <td>98.0</td>\n",
       "      <td>80334.0</td>\n",
       "      <td>avg</td>\n",
       "    </tr>\n",
       "    <tr>\n",
       "      <th>11</th>\n",
       "      <td>87.0</td>\n",
       "      <td>14904.0</td>\n",
       "      <td>short</td>\n",
       "    </tr>\n",
       "    <tr>\n",
       "      <th>13</th>\n",
       "      <td>84.0</td>\n",
       "      <td>224834564.0</td>\n",
       "      <td>short</td>\n",
       "    </tr>\n",
       "    <tr>\n",
       "      <th>16</th>\n",
       "      <td>122.0</td>\n",
       "      <td>105983.0</td>\n",
       "      <td>avg</td>\n",
       "    </tr>\n",
       "  </tbody>\n",
       "</table>\n",
       "</div>"
      ],
      "text/plain": [
       "    runtime      revenue length\n",
       "4      99.0   12854953.0    avg\n",
       "10     98.0      80334.0    avg\n",
       "11     87.0      14904.0  short\n",
       "13     84.0  224834564.0  short\n",
       "16    122.0     105983.0    avg"
      ]
     },
     "execution_count": 47,
     "metadata": {},
     "output_type": "execute_result"
    }
   ],
   "source": [
    "df.head()"
   ]
  },
  {
   "cell_type": "code",
   "execution_count": 48,
   "id": "fa645140",
   "metadata": {
    "hidden": true
   },
   "outputs": [
    {
     "data": {
      "text/plain": [
       "0.0"
      ]
     },
     "execution_count": 48,
     "metadata": {},
     "output_type": "execute_result"
    }
   ],
   "source": [
    "#Is the revenue normally distributed?\n",
    "results = stats.normaltest(df['revenue'],nan_policy=\"omit\")\n",
    "results.pvalue"
   ]
  },
  {
   "cell_type": "code",
   "execution_count": 49,
   "id": "794eec81",
   "metadata": {
    "hidden": true,
    "scrolled": true
   },
   "outputs": [
    {
     "data": {
      "text/html": [
       "<div>\n",
       "<style scoped>\n",
       "    .dataframe tbody tr th:only-of-type {\n",
       "        vertical-align: middle;\n",
       "    }\n",
       "\n",
       "    .dataframe tbody tr th {\n",
       "        vertical-align: top;\n",
       "    }\n",
       "\n",
       "    .dataframe thead th {\n",
       "        text-align: right;\n",
       "    }\n",
       "</style>\n",
       "<table border=\"1\" class=\"dataframe\">\n",
       "  <thead>\n",
       "    <tr style=\"text-align: right;\">\n",
       "      <th></th>\n",
       "      <th>n</th>\n",
       "      <th>p</th>\n",
       "      <th>test stat</th>\n",
       "    </tr>\n",
       "  </thead>\n",
       "  <tbody>\n",
       "    <tr>\n",
       "      <th>avg</th>\n",
       "      <td>2410.0</td>\n",
       "      <td>0.000000e+00</td>\n",
       "      <td>1571.177802</td>\n",
       "    </tr>\n",
       "    <tr>\n",
       "      <th>short</th>\n",
       "      <td>399.0</td>\n",
       "      <td>1.686277e-60</td>\n",
       "      <td>275.265165</td>\n",
       "    </tr>\n",
       "    <tr>\n",
       "      <th>long</th>\n",
       "      <td>111.0</td>\n",
       "      <td>3.241083e-21</td>\n",
       "      <td>94.356759</td>\n",
       "    </tr>\n",
       "  </tbody>\n",
       "</table>\n",
       "</div>"
      ],
      "text/plain": [
       "            n             p    test stat\n",
       "avg    2410.0  0.000000e+00  1571.177802\n",
       "short   399.0  1.686277e-60   275.265165\n",
       "long    111.0  3.241083e-21    94.356759"
      ]
     },
     "execution_count": 49,
     "metadata": {},
     "output_type": "execute_result"
    }
   ],
   "source": [
    "## Running normal test on each group and confirming there are >20 in each group\n",
    "norm_results = {}\n",
    "for i, data in groups.items():\n",
    "    stat, p = stats.normaltest(data,nan_policy=\"omit\")\n",
    "    ## save the p val, test statistic, and the size of the group\n",
    "    norm_results[i] = {'n': len(data),\n",
    "                             'p':p,\n",
    "                             'test stat':stat,}\n",
    "## convert to a dataframe\n",
    "norm_results_df = pd.DataFrame(norm_results).T\n",
    "norm_results_df"
   ]
  },
  {
   "cell_type": "markdown",
   "id": "5b399bdd",
   "metadata": {
    "hidden": true
   },
   "source": [
    "In each case the $𝑝<\\alpha$ indicates that all movie length groups are not normally distributed. However, because the number of entries is sufficiently large we can assume normality."
   ]
  },
  {
   "cell_type": "markdown",
   "id": "5cd61b51",
   "metadata": {
    "heading_collapsed": true
   },
   "source": [
    "## Test Assumption of Equal Variance\n",
    "Use Levene test for equal variance. Recall, the Levene test tests the null hypothesis that all input samples are from populations with equal variances. "
   ]
  },
  {
   "cell_type": "code",
   "execution_count": 50,
   "id": "38fa00e2",
   "metadata": {
    "hidden": true,
    "scrolled": true
   },
   "outputs": [
    {
     "data": {
      "text/plain": [
       "LeveneResult(statistic=28.57993909312779, pvalue=5.104283747465422e-13)"
      ]
     },
     "execution_count": 50,
     "metadata": {},
     "output_type": "execute_result"
    }
   ],
   "source": [
    "# with the * operator \n",
    "stats.levene(*groups.values())"
   ]
  },
  {
   "cell_type": "markdown",
   "id": "a1d5c231",
   "metadata": {
    "hidden": true
   },
   "source": [
    "With $𝑝<\\alpha$ we thus reject the null hypothesis and conclude that our data does not have equal variance."
   ]
  },
  {
   "cell_type": "markdown",
   "id": "3dd9cdaf",
   "metadata": {},
   "source": [
    "## Test Q3 Hypothesis\n",
    "Because we do not satisfy the assumption of equal variance we must use a nonparmetric test.  In this case because we are comparing 3 categories (movie lengths) of revenues we will use the *Kruskal-Wallis* test\n",
    "\n",
    "[Scipy Docs](https://docs.scipy.org/doc/scipy/reference/generated/scipy.stats.kruskal.html)\n",
    "\n",
    "$H_0$ : ($p<\\alpha$) The Kruskal-Wallis H-test tests the null hypothesis that the population **MEDIAN** of all of the groups are equal. \n",
    "\n",
    "It is a non-parametric version of ANOVA. The test works on 2 or more independent samples, which may have different sizes. \n",
    "\n",
    "**NOTE** that rejecting the null hypothesis does not indicate which of the groups differs. Post hoc comparisons between groups are required to determine which groups are different."
   ]
  },
  {
   "cell_type": "code",
   "execution_count": 51,
   "id": "1cf8042d",
   "metadata": {
    "scrolled": true
   },
   "outputs": [
    {
     "data": {
      "text/plain": [
       "KruskalResult(statistic=123.84296551886341, pvalue=1.2818633369941577e-27)"
      ]
     },
     "execution_count": 51,
     "metadata": {},
     "output_type": "execute_result"
    }
   ],
   "source": [
    "# Kriskal-Wallis test\n",
    "stats.kruskal(*groups.values())"
   ]
  },
  {
   "cell_type": "markdown",
   "id": "bb2f75cb",
   "metadata": {},
   "source": [
    "Since $p<\\alpha$, we reject the null hypothesis that the median revenue for all ratings is equal.\n",
    "\n",
    "Let's plot the distribution of revenue and the medians for each group to visualize the comparison"
   ]
  },
  {
   "cell_type": "code",
   "execution_count": 52,
   "id": "f024b69b",
   "metadata": {},
   "outputs": [
    {
     "data": {
      "image/png": "[encoded data removed]",
      "text/plain": [
       "<Figure size 500x500 with 1 Axes>"
      ]
     },
     "metadata": {},
     "output_type": "display_data"
    }
   ],
   "source": [
    "fig, ax = plt.subplots(figsize = (5,5));\n",
    "sns.barplot(data=df, x='length', y='revenue', estimator=np.median, ax = ax);\n",
    "ax.set_title('MEDIAN Revenue', fontsize = 12);"
   ]
  },
  {
   "cell_type": "code",
   "execution_count": 53,
   "id": "441b55f2",
   "metadata": {},
   "outputs": [
    {
     "data": {
      "text/html": [
       "<div>\n",
       "<style scoped>\n",
       "    .dataframe tbody tr th:only-of-type {\n",
       "        vertical-align: middle;\n",
       "    }\n",
       "\n",
       "    .dataframe tbody tr th {\n",
       "        vertical-align: top;\n",
       "    }\n",
       "\n",
       "    .dataframe thead th {\n",
       "        text-align: right;\n",
       "    }\n",
       "</style>\n",
       "<table border=\"1\" class=\"dataframe\">\n",
       "  <thead>\n",
       "    <tr style=\"text-align: right;\">\n",
       "      <th></th>\n",
       "      <th>count</th>\n",
       "      <th>mean</th>\n",
       "      <th>std</th>\n",
       "      <th>min</th>\n",
       "      <th>25%</th>\n",
       "      <th>50%</th>\n",
       "      <th>75%</th>\n",
       "      <th>max</th>\n",
       "    </tr>\n",
       "    <tr>\n",
       "      <th>length</th>\n",
       "      <th></th>\n",
       "      <th></th>\n",
       "      <th></th>\n",
       "      <th></th>\n",
       "      <th></th>\n",
       "      <th></th>\n",
       "      <th></th>\n",
       "      <th></th>\n",
       "    </tr>\n",
       "  </thead>\n",
       "  <tbody>\n",
       "    <tr>\n",
       "      <th>avg</th>\n",
       "      <td>2467.0</td>\n",
       "      <td>6.752755e+07</td>\n",
       "      <td>1.774498e+08</td>\n",
       "      <td>1.0</td>\n",
       "      <td>807118.5</td>\n",
       "      <td>7364054.0</td>\n",
       "      <td>44905861.5</td>\n",
       "      <td>2.068224e+09</td>\n",
       "    </tr>\n",
       "    <tr>\n",
       "      <th>long</th>\n",
       "      <td>113.0</td>\n",
       "      <td>1.239907e+08</td>\n",
       "      <td>3.335248e+08</td>\n",
       "      <td>4062.0</td>\n",
       "      <td>3786801.0</td>\n",
       "      <td>15550000.0</td>\n",
       "      <td>74000000.0</td>\n",
       "      <td>2.799439e+09</td>\n",
       "    </tr>\n",
       "    <tr>\n",
       "      <th>short</th>\n",
       "      <td>405.0</td>\n",
       "      <td>2.350949e+07</td>\n",
       "      <td>7.085252e+07</td>\n",
       "      <td>1.0</td>\n",
       "      <td>63373.0</td>\n",
       "      <td>853811.0</td>\n",
       "      <td>9000000.0</td>\n",
       "      <td>8.754579e+08</td>\n",
       "    </tr>\n",
       "  </tbody>\n",
       "</table>\n",
       "</div>"
      ],
      "text/plain": [
       "         count          mean           std     min        25%         50%  \\\n",
       "length                                                                      \n",
       "avg     2467.0  6.752755e+07  1.774498e+08     1.0   807118.5   7364054.0   \n",
       "long     113.0  1.239907e+08  3.335248e+08  4062.0  3786801.0  15550000.0   \n",
       "short    405.0  2.350949e+07  7.085252e+07     1.0    63373.0    853811.0   \n",
       "\n",
       "               75%           max  \n",
       "length                            \n",
       "avg     44905861.5  2.068224e+09  \n",
       "long    74000000.0  2.799439e+09  \n",
       "short    9000000.0  8.754579e+08  "
      ]
     },
     "execution_count": 53,
     "metadata": {},
     "output_type": "execute_result"
    }
   ],
   "source": [
    "df.groupby(\"length\")['revenue'].describe()"
   ]
  },
  {
   "cell_type": "code",
   "execution_count": 54,
   "id": "1a8edfe8",
   "metadata": {},
   "outputs": [
    {
     "name": "stdout",
     "output_type": "stream",
     "text": [
      "The MEDIAN revenue for LENGTH = \"avg\" is 7364054.0.\n",
      "The MEDIAN revenue for LENGTH = \"short\" is 853811.0.\n",
      "The MEDIAN revenue for LENGTH = \"long\" is 15550000.0.\n"
     ]
    }
   ],
   "source": [
    "for key in groups.keys():\n",
    "    print(f'The MEDIAN revenue for LENGTH = \"{key}\" is {df.loc[(df[\"length\"]==key)][\"revenue\"].median()}.')"
   ]
  },
  {
   "cell_type": "code",
   "execution_count": 55,
   "id": "91a8c828",
   "metadata": {},
   "outputs": [
    {
     "data": {
      "image/png": "[encoded data removed]",
      "text/plain": [
       "<Figure size 500x500 with 1 Axes>"
      ]
     },
     "metadata": {},
     "output_type": "display_data"
    }
   ],
   "source": [
    "fig, ax = plt.subplots(figsize = (5,5));\n",
    "for key in groups.keys():\n",
    "    sns.histplot(data=df.loc[df[\"length\"]==key], x='revenue',ax = ax, stat='probability');\n",
    "    ax.set_label(key)\n",
    "    \n",
    "ax.set_title('Revenue Probability', fontsize = 12);"
   ]
  },
  {
   "cell_type": "code",
   "execution_count": 56,
   "id": "de2c3fca",
   "metadata": {},
   "outputs": [
    {
     "data": {
      "text/html": [
       "<div>\n",
       "<style scoped>\n",
       "    .dataframe tbody tr th:only-of-type {\n",
       "        vertical-align: middle;\n",
       "    }\n",
       "\n",
       "    .dataframe tbody tr th {\n",
       "        vertical-align: top;\n",
       "    }\n",
       "\n",
       "    .dataframe thead th {\n",
       "        text-align: right;\n",
       "    }\n",
       "</style>\n",
       "<table border=\"1\" class=\"dataframe\">\n",
       "  <thead>\n",
       "    <tr style=\"text-align: right;\">\n",
       "      <th></th>\n",
       "      <th>runtime</th>\n",
       "      <th>revenue</th>\n",
       "    </tr>\n",
       "  </thead>\n",
       "  <tbody>\n",
       "    <tr>\n",
       "      <th>61</th>\n",
       "      <td>157.0</td>\n",
       "      <td>15000000.0</td>\n",
       "    </tr>\n",
       "    <tr>\n",
       "      <th>156</th>\n",
       "      <td>155.0</td>\n",
       "      <td>465361176.0</td>\n",
       "    </tr>\n",
       "    <tr>\n",
       "      <th>239</th>\n",
       "      <td>165.0</td>\n",
       "      <td>215294342.0</td>\n",
       "    </tr>\n",
       "    <tr>\n",
       "      <th>586</th>\n",
       "      <td>199.0</td>\n",
       "      <td>4900000.0</td>\n",
       "    </tr>\n",
       "    <tr>\n",
       "      <th>753</th>\n",
       "      <td>157.0</td>\n",
       "      <td>500000.0</td>\n",
       "    </tr>\n",
       "  </tbody>\n",
       "</table>\n",
       "</div>"
      ],
      "text/plain": [
       "     runtime      revenue\n",
       "61     157.0   15000000.0\n",
       "156    155.0  465361176.0\n",
       "239    165.0  215294342.0\n",
       "586    199.0    4900000.0\n",
       "753    157.0     500000.0"
      ]
     },
     "execution_count": 56,
     "metadata": {},
     "output_type": "execute_result"
    },
    {
     "data": {
      "image/png": "[encoded data removed]",
      "text/plain": [
       "<Figure size 640x480 with 1 Axes>"
      ]
     },
     "metadata": {},
     "output_type": "display_data"
    }
   ],
   "source": [
    "long = df.loc[df[\"length\"]==\"long\",[\"runtime\",\"revenue\"]]\n",
    "ax = sns.histplot(long, x='revenue',label=\"long\", stat='probability')\n",
    "\n",
    "ax.legend()\n",
    "long.head()"
   ]
  },
  {
   "cell_type": "code",
   "execution_count": 59,
   "id": "f86c518a",
   "metadata": {},
   "outputs": [
    {
     "data": {
      "text/plain": [
       "<AxesSubplot: xlabel='revenue', ylabel='Probability'>"
      ]
     },
     "execution_count": 59,
     "metadata": {},
     "output_type": "execute_result"
    },
    {
     "data": {
      "image/png": "[encoded data removed]",
      "text/plain": [
       "<Figure size 640x480 with 1 Axes>"
      ]
     },
     "metadata": {},
     "output_type": "display_data"
    }
   ],
   "source": [
    "sns.histplot(data=df,x=\"revenue\",  stat=\"probability\", hue=\"length\", log_scale=True)"
   ]
  },
  {
   "cell_type": "code",
   "execution_count": null,
   "id": "74754d80",
   "metadata": {},
   "outputs": [],
   "source": []
  }
 ],
 "metadata": {
  "kernelspec": {
   "display_name": "Python (dojo-env)",
   "language": "python",
   "name": "dojo-env"
  },
  "language_info": {
   "codemirror_mode": {
    "name": "ipython",
    "version": 3
   },
   "file_extension": ".py",
   "mimetype": "text/x-python",
   "name": "python",
   "nbconvert_exporter": "python",
   "pygments_lexer": "ipython3",
   "version": "3.9.15"
  },
  "toc": {
   "base_numbering": 1,
   "nav_menu": {},
   "number_sections": false,
   "sideBar": true,
   "skip_h1_title": false,
   "title_cell": "Table of Contents",
   "title_sidebar": "Contents",
   "toc_cell": false,
   "toc_position": {
    "height": "calc(100% - 180px)",
    "left": "10px",
    "top": "150px",
    "width": "384px"
   },
   "toc_section_display": true,
   "toc_window_display": true
  }
 },
 "nbformat": 4,
 "nbformat_minor": 5
}
