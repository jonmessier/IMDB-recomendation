{
 "cells": [
  {
   "cell_type": "markdown",
   "id": "69872f4c",
   "metadata": {},
   "source": [
    "# Intro\n",
    "\n",
    "Jon Messier\n",
    "\n",
    "2/20/2023\n",
    "\n",
    "---\n",
    "\n",
    "**Business Problem**\n",
    "\n",
    "For this project, you have been hired to produce a MySQL database on Movies from a subset of IMDB's publicly available dataset. Ultimately, you will use this database to analyze what makes a movie successful and will provide recommendations to the stakeholder on how to make a successful movie."
   ]
  },
  {
   "cell_type": "markdown",
   "id": "11a09930",
   "metadata": {},
   "source": [
    "# Part 1\n",
    "\n",
    "For Part 1 of the project, you will be creating your project repository, loading the official IMDB data for the requested tables, filtering out unnecessary data, and saving the filtered tables as gzip-compressed csv files (\".csv.gz\") in your repository.\n",
    "\n",
    "**Getting Started Tips:**\n",
    "\n",
    "    Please make sure to read the following lesson [\"Getting Started - Project 3\"](https://login.codingdojo.com/m/376/12528/88061) for additional tips and directions!\n",
    "    \n",
    "  **The Data**\n",
    "\n",
    "    IMDB Provides Several Files with varied information for Movies, TV Shows, Made for TV Movies, etc.\n",
    "-   Overview/Data Dictionary: https://www.imdb.com/interfaces/\n",
    "- Downloads page: https://datasets.imdbws.com/\n",
    "\n",
    "- From their previous research, they realized they want to focus on the following files:\n",
    "        title.basics.tsv.gz\n",
    "        title.ratings.tsv.gz\n",
    "        title.akas.tsv.gz\n",
    "\n",
    "\n",
    "**Specifications**\n",
    "\n",
    "Your stakeholder only wants you to include information for movies based on the following specifications:\n",
    "\n",
    "-    Exclude any movie with missing values for genre or runtime\n",
    "-    Include only full-length movies (titleType = \"movie\").\n",
    "-    Include only fictional movies (not from documentary genre)\n",
    "-   Include only movies that were released 2000 - 2021 (include 2000 and 2021)\n",
    "-    Include only movies that were released in the United States\n",
    "\n",
    "\n",
    "**Deliverable**\n",
    "\n",
    "After filtering out movies that do not meet the stakeholder's specifications:\n",
    "\n",
    "-    Before saving, run a final .info() for each of the dataframes to show a summary of how many movies remain and the datatypes of each feature\n",
    "-    Save each file to a compressed csv file \"Data/\" folder inside your repository.\n",
    "-    Commit your changes to your repository in GitHub desktop and Publish repository / Push Changes.\n",
    "-    Submit the link to your repository\n",
    "\n"
   ]
  },
  {
   "cell_type": "markdown",
   "id": "a1b3b910",
   "metadata": {},
   "source": [
    "# Class/Data imports"
   ]
  },
  {
   "cell_type": "code",
   "execution_count": 1,
   "id": "8768c7fe",
   "metadata": {},
   "outputs": [],
   "source": [
    "import pandas as pd\n",
    "import numpy as np"
   ]
  },
  {
   "cell_type": "code",
   "execution_count": null,
   "id": "a1be1844",
   "metadata": {},
   "outputs": [],
   "source": [
    "basics_url = 'https://datasets.imdbws.com/name.basics.tsv.gz'\n",
    "ratings_url = 'https://datasets.imdbws.com/title.ratings.tsv.gz'\n",
    "akas_url = 'https://datasets.imdbws.com/title.akas.tsv.gz'"
   ]
  }
 ],
 "metadata": {
  "kernelspec": {
   "display_name": "Python (dojo-env)",
   "language": "python",
   "name": "dojo-env"
  },
  "language_info": {
   "codemirror_mode": {
    "name": "ipython",
    "version": 3
   },
   "file_extension": ".py",
   "mimetype": "text/x-python",
   "name": "python",
   "nbconvert_exporter": "python",
   "pygments_lexer": "ipython3",
   "version": "3.9.15"
  },
  "toc": {
   "base_numbering": 1,
   "nav_menu": {
    "height": "135px",
    "width": "160px"
   },
   "number_sections": false,
   "sideBar": true,
   "skip_h1_title": false,
   "title_cell": "Table of Contents",
   "title_sidebar": "Contents",
   "toc_cell": false,
   "toc_position": {},
   "toc_section_display": true,
   "toc_window_display": false
  }
 },
 "nbformat": 4,
 "nbformat_minor": 5
}
